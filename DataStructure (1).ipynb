{
  "nbformat": 4,
  "nbformat_minor": 0,
  "metadata": {
    "colab": {
      "provenance": []
    },
    "kernelspec": {
      "name": "python3",
      "display_name": "Python 3"
    },
    "language_info": {
      "name": "python"
    }
  },
  "cells": [
    {
      "cell_type": "code",
      "execution_count": null,
      "metadata": {
        "id": "9FuxbQZb4sK4"
      },
      "outputs": [],
      "source": [
        "# 1. What are data structures, and why are they important in python?\n",
        "\n",
        "# Data structures are specialized formats for organizing and storing data in a computer so that it can be used efficiently.\n",
        "# They provide a way to manage large amounts of data, allowing for easy access, modification, and processing.\n",
        "\n",
        "# Importance in Python:\n",
        "\n",
        "# 1. Efficiency: Data structures are designed for specific tasks.  Using the right one dramatically improves performance\n",
        "#    when dealing with large datasets or frequent operations (searching, sorting, inserting, deleting).\n",
        "\n",
        "# 2. Organization: They impose order on data.  This makes it clear how data is related and how to interact with it.\n",
        "\n",
        "# 3. Code Readability: Well-chosen data structures make code more understandable and maintainable, because the data's organization\n",
        "#    is explicit.\n",
        "\n",
        "# 4. Problem Solving: Data structures are fundamental tools for algorithm design.  Selecting the right one is often the key\n",
        "#   to an efficient solution.\n",
        "\n",
        "# Examples of common Python data structures:\n",
        "\n",
        "'''\n",
        " - Lists: Ordered, mutable sequences. Great for general-purpose storage.\n",
        " - Tuples: Ordered, immutable sequences. Useful for fixed collections of items.\n",
        " - Sets: Unordered collections of unique elements.  Excellent for membership testing.\n",
        " - Dictionaries: Key-value pairs.  Efficient for lookups based on keys.\n",
        " - Arrays (NumPy): Efficient for numerical computations, especially on large datasets.\n",
        "'''\n",
        "# Choosing the right data structure depends heavily on the problem at hand.  Understanding their strengths and weaknesses\n",
        "# is crucial for writing effective Python code.\n"
      ]
    },
    {
      "cell_type": "code",
      "source": [
        "# 2. Explain the difference between mutable and immutable data types with examples\n",
        "\n",
        "# Mutable vs. Immutable Data Types\n",
        "# Mutable data types can be changed after they are created.  Modifications affect the original object.\n",
        "# Immutable data types cannot be altered once created.  Any operation that seems to modify them actually creates a new object.\n",
        "\n",
        "\n",
        "# Examples of Mutable Data Types:\n",
        "\n",
        "# 1. Lists:\n",
        "my_list = [1, 2, 3]\n",
        "print(\"Original list:\", my_list)\n",
        "\n",
        "my_list.append(4)\n",
        "print(\"Modified list:\", my_list)\n",
        "\n",
        "my_list[0] = 0\n",
        "print(\"Modified list:\", my_list)\n",
        "\n",
        "\n",
        "# 2. Dictionaries:\n",
        "my_dict = {\"a\": 1, \"b\": 2}\n",
        "print(\"Original dictionary:\", my_dict)  # Output: Original dictionary: {'a': 1, 'b': 2}\n",
        "\n",
        "my_dict[\"c\"] = 3  # Adds a new key-value pair to the original dictionary\n",
        "print(\"Modified dictionary:\", my_dict)  # Output: Modified dictionary: {'a': 1, 'b': 2, 'c': 3}\n",
        "\n",
        "my_dict[\"a\"] = 10 # Modifies the value associated with key \"a\"\n",
        "print(\"Modified dictionary:\", my_dict) # Output: Modified dictionary: {'a': 10, 'b': 2, 'c': 3}\n",
        "\n",
        "\n",
        "# 3. Sets:\n",
        "my_set = {1, 2, 3}\n",
        "print(\"Original set:\", my_set) # Output: Original set: {1, 2, 3}\n",
        "\n",
        "my_set.add(4) # Modifies the original set\n",
        "print(\"Modified set:\", my_set) # Output: Modified set: {1, 2, 3, 4}\n",
        "\n",
        "my_set.remove(1) # Modifies the original set\n",
        "print(\"Modified set:\", my_set) # Output: Modified set: {2, 3, 4}\n",
        "\n",
        "\n",
        "# Examples of Immutable Data Types:\n",
        "\n",
        "# 1. Strings:\n",
        "my_string = \"hello\"\n",
        "print(\"Original string:\", my_string)  # Output: Original string: hello\n",
        "\n",
        "# my_string[0] = \"H\"  # This will raise a TypeError because strings are immutable.\n",
        "# Instead, you create a new string:\n",
        "new_string = \"H\" + my_string[1:]\n",
        "print(\"New string:\", new_string) # Output: New string: Hello\n",
        "\n",
        "\n",
        "# 2. Tuples:\n",
        "my_tuple = (1, 2, 3)\n",
        "print(\"Original tuple:\", my_tuple)\n",
        "# my_tuple[0] = 0  # This will raise a TypeError because tuples are immutable.\n",
        "\n"
      ],
      "metadata": {
        "id": "XURIMsxx5CSw"
      },
      "execution_count": null,
      "outputs": []
    },
    {
      "cell_type": "code",
      "source": [
        "# prompt: P What are the main differences between lists and tuples in Python3\n",
        "\n",
        "# Key Differences Between Lists and Tuples in Python\n",
        "\n",
        "''' 1. Mutability:\n",
        "      - Lists are mutable: Their elements can be changed after creation (appending, removing, modifying elements).\n",
        "      - Tuples are immutable: Once created, their elements cannot be modified.  Any operation that appears to change\n",
        "      a tuple actually creates a new tuple.\n",
        "'''\n",
        "\n",
        "#  2. Syntax:\n",
        "'''   - Lists are defined using square brackets: []\n",
        "      - Tuples are defined using parentheses: ()  or even without parentheses for single elements.\n",
        "'''\n",
        "''' 3. Use Cases:\n",
        "     - Lists:  Suitable for collections of items that might change over time (e.g., a list of tasks, a sequence of numbers\n",
        "             that needs to be updated).\n",
        "     - Tuples: Ideal for representing fixed collections of items where immutability is important.  For instance, coordinates\n",
        "     of a point, RGB color values, or database records.  Tuples are also useful as keys in dictionaries\n",
        "    because they are hashable due to their immutability.\n",
        "'''\n",
        "\n",
        "# Example demonstrating mutability:\n",
        "\n",
        "my_list = [1, 2, 3]\n",
        "my_tuple = (1, 2, 3)\n",
        "\n",
        "my_list[0] = 10  # Modifying a list element – allowed\n",
        "print(my_list)  # Output: [10, 2, 3]\n",
        "\n",
        "# my_tuple[0] = 10  # Modifying a tuple element – will raise a TypeError\n",
        "# print(my_tuple)\n",
        "\n",
        "# Example demonstrating use in a dictionary:\n",
        "\n",
        "my_dict = {}\n",
        "\n",
        "# my_dict[[1, 2]] = \"This won't work\" # Lists are mutable, so they cannot be used as keys in dictionaries\n",
        "\n",
        "my_dict[(1, 2)] = \"This works\"  # Tuples are immutable, so they can be used as keys\n",
        "my_dict\n",
        "\n",
        "# 4. Performance:\n",
        "#    - Tuples are generally slightly more memory-efficient and have slightly faster access times than lists due to their immutability.\n",
        "#    - The performance difference is often negligible unless dealing with massive datasets.\n",
        "\n",
        "# 5. Methods:\n",
        "# Lists have more methods available due to their mutability (append, extend, insert, remove, pop, etc.).  Tuples only have a few methods (count, index).\n",
        "\n",
        "# In Summary\n",
        "# Choose lists when you need a mutable sequence that can be modified.  Choose tuples for immutable sequences, where data integrity is critical, or when you want to use the sequence as a dictionary key.\n"
      ],
      "metadata": {
        "id": "UXltCBxS5t-d"
      },
      "execution_count": null,
      "outputs": []
    },
    {
      "cell_type": "code",
      "source": [],
      "metadata": {
        "id": "ohShoAyE7MIV"
      },
      "execution_count": null,
      "outputs": []
    },
    {
      "cell_type": "code",
      "source": [
        "#4.  Describe how dictionaries store data in short\n",
        "'''\n",
        "Dictionaries store data as key-value pairs.  Each unique key is associated with\n",
        "a specific value.  Keys must be immutable (like strings, numbers, or tuples),\n",
        "while values can be of any data type.  This allows for efficient lookups of\n",
        "values based on their corresponding keys.\n",
        "'''\n"
      ],
      "metadata": {
        "id": "XSHBLYef7DSx"
      },
      "execution_count": null,
      "outputs": []
    },
    {
      "cell_type": "code",
      "source": [
        "# 5. Why might you use a set instead of a list in Python\n",
        "\n",
        "import time\n",
        "import random\n",
        "\n",
        "# Create a large list and a large set with the same elements\n",
        "n = 1000000\n",
        "my_list = [random.randint(0, n) for _ in range(n)]\n",
        "my_set = set(my_list)\n",
        "\n",
        "\n",
        "# Measure the time to check if an element is in the list\n",
        "start_time = time.time()\n",
        "result = 12345 in my_list  # Check if 12345 is present in the list\n",
        "end_time = time.time()\n",
        "print(f\"Membership test in list: {end_time - start_time:.6f} seconds\")\n",
        "\n",
        "\n",
        "# Measure the time to check if an element is in the set\n",
        "start_time = time.time()\n",
        "result = 12345 in my_set  # Check if 12345 is present in the set\n",
        "end_time = time.time()\n",
        "print(f\"Membership test in set: {end_time - start_time:.6f} seconds\")\n"
      ],
      "metadata": {
        "id": "o1bcUAwP7eWh"
      },
      "execution_count": null,
      "outputs": []
    },
    {
      "cell_type": "code",
      "source": [
        "# 6. What is a string in Python, and how is it different from a list\n",
        "\n",
        "'''\n",
        " A string in Python is a sequence of characters.  It's an immutable data type,\n",
        " meaning that once you create a string, you cannot change its individual characters.\n",
        " Any operation that appears to modify a string actually creates a new string object.\n",
        "'''\n",
        "# Strings are defined using single quotes (' '), double quotes (\" \"), or triple quotes (''' ''' or \"\"\" \"\"\") for multiline strings.\n",
        "\n",
        "my_string = \"Hello, world!\"\n",
        "# my_string[0] = 'J' # This will cause an error because strings are immutable\n",
        "\n",
        "# Lists, on the other hand, are mutable ordered sequences of items.  These items can be of different data types (numbers, strings, other objects). You can modify a list in-place—change its contents, add elements, or remove elements.\n",
        "\n",
        "my_list = [1, \"apple\", 3.14]\n",
        "my_list[0] = 10 # Modifying a list element\n",
        "\n",
        "# Key Differences:\n",
        "\n",
        "# 1. Mutability: Strings are immutable; lists are mutable.\n",
        "\n",
        "# 2. Element Types:  Strings contain only characters. Lists can hold elements of various types.\n",
        "\n",
        "# 3. Use Cases:\n",
        "#    - Use strings to represent text data.\n",
        "#    - Use lists to store collections of items where modification is expected.\n",
        "\n",
        "\n"
      ],
      "metadata": {
        "id": "FREE97kH7rYo"
      },
      "execution_count": null,
      "outputs": []
    },
    {
      "cell_type": "code",
      "source": [
        "# 7. How do tuples ensure data integrity in Python ?\n",
        "\n",
        "# Tuples ensure data integrity in Python through immutability.\n",
        "# Once a tuple is created, its elements cannot be changed. This means that\n",
        "# you can be certain that the data within a tuple will remain constant\n",
        "# throughout the program's execution. This is in contrast to lists, which are mutable.\n",
        "\n",
        "# Example:\n",
        "my_tuple = (1, 2, 3)\n",
        "# Attempting to modify an element will result in an error:\n",
        "my_tuple[0] = 4 # This will raise a TypeError\n",
        "\n",
        "# Use Cases for Data Integrity:\n",
        "# 1. Representing fixed data:  coordinates, RGB colors\n",
        "# 2. Dictionary keys:  Keys in a dictionary must be immutable, so tuples are suitable\n",
        "# 3. Function arguments: Passing a tuple to a function ensures that the data is not modified inadvertently\n"
      ],
      "metadata": {
        "id": "GFs5HTKp7-ls"
      },
      "execution_count": null,
      "outputs": []
    },
    {
      "cell_type": "code",
      "source": [
        "# 8. What is a hash table, and how does it relate to dictionaries in Python?\n",
        "\n",
        "'''\n",
        "A hash table is a data structure that implements an associative array, meaning it stores key-value pairs.  It uses a hash function to compute an index (or \"bucket\") into an array of buckets or slots, from which the desired value can be found.\n",
        "\n",
        "Here's how it works:\n",
        "\n",
        "1. Hash Function: When you want to store a key-value pair, the hash function takes the key as input and produces an integer (the hash code or hash value).\n",
        "\n",
        "2. Index Calculation: The hash code is then used to calculate an index into the array of buckets.  This index indicates where the key-value pair should be stored.\n",
        "\n",
        "3. Collision Handling:  It's possible that two different keys might produce the same hash code (a \"collision\").  Hash tables employ collision resolution strategies like:\n",
        "    - Separate Chaining: Each bucket stores a linked list (or other data structure) of key-value pairs that hashed to that bucket.\n",
        "    - Open Addressing: If a collision occurs, the algorithm probes for the next available slot in the array.\n",
        "\n",
        "4. Retrieval: To retrieve the value associated with a key, the same hash function is used to compute the index.  The algorithm then searches the bucket at that index for the key and returns the corresponding value.\n",
        "\n",
        "\n",
        "Dictionaries in Python are implemented using hash tables.  This is why dictionary lookups are typically very fast (O(1) on average).  The hash table allows for quick retrieval of values based on their keys, even with large dictionaries.\n",
        "'''\n"
      ],
      "metadata": {
        "id": "oULDc0qaFI-d"
      },
      "execution_count": null,
      "outputs": []
    },
    {
      "cell_type": "code",
      "source": [
        "#  9. Can lists contain different data types in Python?\n",
        "\n",
        "# Yes, lists in Python can contain elements of different data types.\n",
        "my_list = [1, \"hello\", 3.14, True]\n",
        "my_list\n"
      ],
      "metadata": {
        "id": "E7-HpfRGEYdR"
      },
      "execution_count": null,
      "outputs": []
    },
    {
      "cell_type": "code",
      "source": [
        "#10.  Explain why strings are immutable in Python?\n",
        "\n",
        "# Strings are immutable in Python because it allows for efficient string manipulation and memory management.  Immutability means that once a string object is created, its value cannot be changed. Any operation that appears to modify the string, such as concatenation or slicing, actually creates a *new* string object.\n",
        "\n",
        "# Here's a breakdown of the reasons:\n",
        "\n",
        "# 1. Memory Management:\n",
        "#    - Immutability allows Python to optimize memory usage. Because a string's value is fixed, Python can store strings in memory more efficiently. If strings were mutable, any modification would require updating the string object in memory, potentially affecting multiple references to the same string.  Immutability avoids these complications.\n",
        "\n",
        "# 2. Thread Safety:\n",
        "#    - Immutable objects are inherently thread-safe.  Multiple threads can access and use the same string object simultaneously without the risk of data corruption because no thread can change the string's value.  If strings were mutable, proper locking mechanisms would be required to ensure thread safety.\n",
        "\n",
        "# 3. Hashing:\n",
        "#    - Many data structures, like dictionaries and sets, rely on hashing to provide fast lookups.  A hash function calculates a unique numerical value for a given key.  Because immutable strings have a constant hash value, they can be used as keys in hash tables. If strings were mutable, their hash value could change, leading to inconsistencies and incorrect lookups in dictionaries and sets.\n",
        "\n",
        "# 4. Caching:\n",
        "#    - Python can cache frequently used strings, leading to better performance.  Because immutable strings do not change, if a string is used many times, Python can store a single copy of it in memory and reuse it—this avoids unnecessary memory allocations.\n",
        "\n",
        "# 5. Simplified Debugging:\n",
        "#    - Knowing that strings are immutable simplifies debugging.  When you see a string variable, you can be sure that its value remains constant until it is explicitly reassigned.\n",
        "\n",
        "\n",
        "# Example illustrating immutability:\n",
        "\n",
        "my_string = \"hello\"\n",
        "new_string = my_string + \" world\"\n",
        "\n",
        "# The variable \"my_string\" still refers to \"hello\". The \"new_string\" variable now points to the *new* string object \"hello world\".\n",
        "# The original string \"hello\" remains unchanged in memory.\n",
        "\n",
        "print(my_string)    # Output: hello\n",
        "print(new_string)   # Output: hello world\n"
      ],
      "metadata": {
        "id": "Eb5LsU4oFjmu"
      },
      "execution_count": null,
      "outputs": []
    },
    {
      "cell_type": "code",
      "source": [
        "#  11. What advantages do dictionaries offer over lists for certain tasks?\n",
        "\n",
        "# Advantages of Dictionaries over Lists\n",
        "\n",
        "# 1. Efficient Key-Based Lookups:\n",
        "# Dictionaries use hash tables for storage.  This allows you to look up values\n",
        "# associated with a specific key incredibly quickly (O(1) average time complexity).\n",
        "# Lists, on the other hand, require you to search through each element sequentially\n",
        "# (O(n) time complexity).  If you need to find data based on an identifier (like a name, ID, or other unique key),\n",
        "# a dictionary will be far superior.\n",
        "\n",
        "# Example:\n",
        "student_grades = {\"Alice\": 85, \"Bob\": 92, \"Charlie\": 78}\n",
        "\n",
        "# Finding Bob's grade is an O(1) operation.\n",
        "bobs_grade = student_grades[\"Bob\"]  # Direct access using the key\n",
        "print(f\"Bob's grade is {bobs_grade}\")\n",
        "\n",
        "# 2. Data Association:\n",
        "# Dictionaries are designed to explicitly associate values with keys.  This is ideal\n",
        "# when data elements are naturally related. In contrast, items in a list are simply\n",
        "# stored in a sequence without intrinsic relationships between them.\n",
        "\n",
        "\n",
        "# Example:  Storing information about a person.\n",
        "person = {\n",
        "    \"name\": \"Alice\",\n",
        "    \"age\": 30,\n",
        "    \"city\": \"New York\"\n",
        "}\n",
        "# You can access information directly by using the field's name (key)\n",
        "\n",
        "# 3. Flexible Data Organization:\n",
        "# Dictionaries can easily store data that doesn't have a strict, ordered structure.\n",
        "# If you need to represent a record or a collection of information with various fields,\n",
        "# a dictionary is the preferred choice.\n",
        "\n",
        "\n",
        "# Example: A data structure to record employee information\n",
        "employee_data = {\n",
        "    'employee_id': 12345,\n",
        "    'name': 'Jane Doe',\n",
        "    'department': 'Sales',\n",
        "    'salary': 60000,\n",
        "    'start_date': '2023-01-15'\n",
        "}\n",
        "\n",
        "# 4. Use Cases\n",
        "# Dictionaries are used in configuration files, databases, caches, JSON, to map data (like word counts, user profiles, etc)\n",
        "\n",
        "\n",
        "\n"
      ],
      "metadata": {
        "id": "s8_KSFk9GAMZ",
        "colab": {
          "base_uri": "https://localhost:8080/"
        },
        "outputId": "3d11aa0f-5f30-4a55-f2d0-cb39dff4353d"
      },
      "execution_count": null,
      "outputs": [
        {
          "output_type": "stream",
          "name": "stdout",
          "text": [
            "Bob's grade is 92\n"
          ]
        }
      ]
    },
    {
      "cell_type": "code",
      "source": [
        "# 12 Describe a scenario where using a tuple would be preferable over a list?\n",
        "\n",
        "# Scenario: Storing a fixed set of coordinates for a geographical location.\n",
        "\n",
        "# Using a tuple:\n",
        "coordinates = (34.0522, -118.2437)  # Latitude and longitude of a location\n",
        "\n",
        "# Why a tuple is preferable:\n",
        "# 1. Immutability: Coordinates are unlikely to change. A tuple enforces this,\n",
        "# preventing accidental modification, ensuring data integrity.\n",
        "# 2. Hashability: Tuples can be used as keys in dictionaries, useful for lookups based on locations.\n",
        "# 3. Readability:  The tuple structure clearly indicates that the elements represent a fixed set of data.\n",
        "\n",
        "# Using a list (less suitable):\n",
        "# coordinates_list = [34.0522, -118.2437]\n",
        "\n",
        "# Risk of accidental modification:\n",
        "# coordinates_list[0] = 35.0  # Oops, latitude is now changed!\n"
      ],
      "metadata": {
        "id": "rTpbxXbJGSA-"
      },
      "execution_count": null,
      "outputs": []
    },
    {
      "cell_type": "code",
      "source": [
        "# prompt: 13. How do sets handle duplicate values in Python?\n",
        "\n",
        "# Sets automatically handle duplicate values by only storing unique elements.\n",
        "# If you try to add a duplicate element to a set, it will simply be ignored.\n",
        "\n",
        "my_set = {1, 2, 2, 3, 3, 3}  # Define a set with duplicate elements\n",
        "print(my_set)  # Output: {1, 2, 3}  (Duplicates are removed)\n"
      ],
      "metadata": {
        "colab": {
          "base_uri": "https://localhost:8080/"
        },
        "id": "SDCH9_a3KMyj",
        "outputId": "3382a9d6-88fa-4048-a3cc-43d41f2fd50c"
      },
      "execution_count": null,
      "outputs": [
        {
          "output_type": "stream",
          "name": "stdout",
          "text": [
            "{1, 2, 3}\n"
          ]
        }
      ]
    },
    {
      "cell_type": "code",
      "source": [
        "# 14.  How does the “in” keyword work differently for lists and dictionaries?\n",
        "\n",
        "# The \"in\" keyword behaves differently for lists and dictionaries:\n",
        "\n",
        "# Lists:\n",
        "# The \"in\" operator checks for membership. It searches the list sequentially\n",
        "# to determine if a given value exists as an element within the list.\n",
        "\n",
        "my_list = [1, 2, 3, 4, 5]\n",
        "print(3 in my_list)  # Output: True\n",
        "print(6 in my_list)  # Output: False\n",
        "\n",
        "# Dictionaries:\n",
        "# The \"in\" operator checks for the existence of a *key*.  It does not check for\n",
        "# the presence of a *value*.\n",
        "\n",
        "my_dict = {\"a\": 1, \"b\": 2, \"c\": 3}\n",
        "print(\"a\" in my_dict)   # Output: True (checks if \"a\" is a key)\n",
        "print(1 in my_dict)   # Output: False (checks if 1 is a key)\n",
        "print(\"d\" in my_dict)   # Output: False (checks if \"d\" is a key)\n",
        "\n",
        "# To check if a *value* exists in a dictionary:\n",
        "\n",
        "print(1 in my_dict.values())  # Output: True (checks for the value 1)\n"
      ],
      "metadata": {
        "colab": {
          "base_uri": "https://localhost:8080/"
        },
        "id": "WiBOW_vKKYvn",
        "outputId": "5f201609-9660-4447-8fa5-637a44b70b54"
      },
      "execution_count": null,
      "outputs": [
        {
          "output_type": "stream",
          "name": "stdout",
          "text": [
            "True\n",
            "False\n",
            "True\n",
            "False\n",
            "False\n",
            "True\n"
          ]
        }
      ]
    },
    {
      "cell_type": "code",
      "source": [
        "# 15 Can you modify the elements of a tuple? Explain why or why  not?\n",
        "\n",
        "my_tuple = (1, 2, 3)\n",
        "\n",
        "# Attempting to modify an element will result in an error:\n",
        "# my_tuple[0] = 4  # This will raise a TypeError because tuples are immutable.\n",
        "\n",
        "# You cannot modify the elements of a tuple directly because tuples are immutable data types.\n",
        "# Any operation that appears to modify a tuple creates a new tuple object instead.\n"
      ],
      "metadata": {
        "id": "fW4vz8YwKmfe"
      },
      "execution_count": null,
      "outputs": []
    },
    {
      "cell_type": "code",
      "source": [
        "# 16 what is a nested dictionary, and give an example of its use case ?\n",
        "\n",
        "# A nested dictionary is a dictionary where the values themselves are dictionaries.  This allows you to create a hierarchical data structure.\n",
        "\n",
        "# Example Use Case: Representing employee data within different departments.\n",
        "\n",
        "employee_data = {\n",
        "    \"Sales\": {\n",
        "        \"Alice\": {\"id\": 101, \"salary\": 60000},\n",
        "        \"Bob\": {\"id\": 102, \"salary\": 65000},\n",
        "    },\n",
        "    \"Engineering\": {\n",
        "        \"Charlie\": {\"id\": 201, \"salary\": 75000},\n",
        "        \"David\": {\"id\": 202, \"salary\": 80000},\n",
        "    },\n",
        "}\n",
        "\n",
        "# Accessing data:\n",
        "\n",
        "# Get the salary of Alice in the Sales department\n",
        "sales_alice_salary = employee_data[\"Sales\"][\"Alice\"][\"salary\"]\n",
        "print(f\"Alice's salary: ${sales_alice_salary}\")\n",
        "\n",
        "# Get all employees in Engineering\n",
        "engineering_employees = employee_data[\"Engineering\"]\n",
        "print(\"Engineering Employees:\", engineering_employees)\n",
        "\n",
        "# Add a new employee\n",
        "employee_data[\"Sales\"][\"Eve\"] = {\"id\": 103, \"salary\": 70000}\n",
        "print(employee_data[\"Sales\"])\n",
        "\n",
        "# Iterate over departments and employees:\n",
        "for department, employees in employee_data.items():\n",
        "  print(f\"Department: {department}\")\n",
        "  for employee, info in employees.items():\n",
        "    print(f\"  Employee: {employee}, ID: {info['id']}, Salary: ${info['salary']}\")\n"
      ],
      "metadata": {
        "colab": {
          "base_uri": "https://localhost:8080/"
        },
        "id": "ZTdv9yNkeUyY",
        "outputId": "ac826385-d67b-4683-bc32-15a02fcdaeac"
      },
      "execution_count": null,
      "outputs": [
        {
          "output_type": "stream",
          "name": "stdout",
          "text": [
            "Alice's salary: $60000\n",
            "Engineering Employees: {'Charlie': {'id': 201, 'salary': 75000}, 'David': {'id': 202, 'salary': 80000}}\n",
            "{'Alice': {'id': 101, 'salary': 60000}, 'Bob': {'id': 102, 'salary': 65000}, 'Eve': {'id': 103, 'salary': 70000}}\n",
            "Department: Sales\n",
            "  Employee: Alice, ID: 101, Salary: $60000\n",
            "  Employee: Bob, ID: 102, Salary: $65000\n",
            "  Employee: Eve, ID: 103, Salary: $70000\n",
            "Department: Engineering\n",
            "  Employee: Charlie, ID: 201, Salary: $75000\n",
            "  Employee: David, ID: 202, Salary: $80000\n"
          ]
        }
      ]
    },
    {
      "cell_type": "code",
      "source": [
        "# 17 Describe the time complexity of accessing elements in a dictionary?\n",
        "\n",
        "''''\n",
        "  Accessing elements in a dictionary has an average time complexity of O(1) due to\n",
        "  the use of hash tables.  In the worst-case scenario (e.g., many hash collisions),\n",
        "  the time complexity can degrade to O(n), where n is the number of elements in\n",
        "  the dictionary.  However, the average-case performance remains constant time,\n",
        "  making dictionaries very efficient for lookups.\n",
        "'''\n"
      ],
      "metadata": {
        "id": "ow4_1bS-evVf"
      },
      "execution_count": null,
      "outputs": []
    },
    {
      "cell_type": "code",
      "source": [
        "# 18 In what situations are lists preferred over dictionaries?\n",
        "\n",
        "# Lists are preferred over dictionaries when:\n",
        "\n",
        "# 1. Order Matters:  Lists maintain the order of elements as they are inserted.  Dictionaries do not guarantee order (though order is preserved in Python 3.7+). If the order of elements is important for your algorithm or processing, a list is the correct choice.\n",
        "\n",
        "# Example:  Storing a sequence of events in chronological order.\n",
        "events = [\"Event A\", \"Event B\", \"Event C\"] # Order is preserved\n",
        "\n",
        "# 2. Sequential Access is Frequent: If you primarily access elements by their position (index) rather than by a key, lists provide direct access with O(1) time complexity.\n",
        "\n",
        "# Example: Processing data where the order is meaningful and you need to access items in sequence.\n",
        "\n",
        "\n",
        "# 3.  Mutable and Dynamic Size: Lists are mutable, so you can easily add or remove elements.  If your collection's size or contents will change frequently, lists are more suitable.\n",
        "\n",
        "\n",
        "# Example:  Building a list of items as you gather data from an external source.  Dictionaries can be resized, but the resize operation may require rehashing, which can be less efficient in this scenario.\n",
        "\n",
        "\n",
        "\n",
        "# 4. No Key-Value Association Needed: When there is no inherent key-value relationship between data points.  The elements are simply a collection of items without a need for lookups based on specific identifiers.\n",
        "\n",
        "# Example: A sequence of numbers, a collection of strings representing file paths, etc.\n",
        "\n",
        "# In essence:\n",
        "# Lists are for ordered collections where you might need to access elements by index or frequently modify the collection.\n",
        "# Dictionaries are for key-value mappings where efficient lookups by key are critical.\n"
      ],
      "metadata": {
        "id": "MPdOKUH4fPBk"
      },
      "execution_count": null,
      "outputs": []
    },
    {
      "cell_type": "code",
      "source": [
        "# prompt: 19 Why are dictionaries considered unordered, and how does that affect data retrieval?\n",
        "\n",
        "# Assuming the question refers to the dictionary 'employee_data' defined in the provided code.\n",
        "# Dictionaries in Python are considered unordered because the order in which elements are stored in memory is not guaranteed to match the order in which they were inserted.\n",
        "#  Dictionaries are indexed using keys, not numerical positions.\n",
        "#  Python 3.7+ preserves insertion order for dictionaries.  Older versions don't.\n",
        "\n",
        "# Data Retrieval:\n",
        "\n",
        "# Access by key: Data retrieval in dictionaries is typically very fast (O(1) average time complexity).  You use the key to directly access its associated value.\n",
        "\n",
        "employee_data = {\n",
        "    \"Sales\": {\n",
        "        \"Alice\": {\"id\": 101, \"salary\": 60000},\n",
        "        \"Bob\": {\"id\": 102, \"salary\": 65000},\n",
        "    },\n",
        "    \"Engineering\": {\n",
        "        \"Charlie\": {\"id\": 201, \"salary\": 75000},\n",
        "        \"David\": {\"id\": 202, \"salary\": 80000},\n",
        "    },\n",
        "}\n",
        "\n",
        "\n",
        "# Example:  Get the salary of Alice in Sales.\n",
        "alice_salary = employee_data[\"Sales\"][\"Alice\"][\"salary\"]\n",
        "print(f\"Alice's salary: {alice_salary}\")\n",
        "\n",
        "\n",
        "# Iteration:  While the order of keys might not be guaranteed in older Python versions, in Python 3.7+ and later, the order is preserved.\n",
        "for department, employees in employee_data.items():\n",
        "    print(f\"Department: {department}\")\n",
        "    for employee, info in employees.items():\n",
        "        print(f\"  Employee: {employee}, ID: {info['id']}, Salary: ${info['salary']}\")\n",
        "\n",
        "\n"
      ],
      "metadata": {
        "colab": {
          "base_uri": "https://localhost:8080/"
        },
        "id": "LGarh4aafiM8",
        "outputId": "33143ea4-9553-426c-a7d0-2a09207b6675"
      },
      "execution_count": null,
      "outputs": [
        {
          "output_type": "stream",
          "name": "stdout",
          "text": [
            "Alice's salary: 60000\n",
            "Department: Sales\n",
            "  Employee: Alice, ID: 101, Salary: $60000\n",
            "  Employee: Bob, ID: 102, Salary: $65000\n",
            "Department: Engineering\n",
            "  Employee: Charlie, ID: 201, Salary: $75000\n",
            "  Employee: David, ID: 202, Salary: $80000\n"
          ]
        }
      ]
    },
    {
      "cell_type": "code",
      "source": [
        "# 20 Explain the difference between a list and a dictionary in terms of data retrieval.\n",
        "\n",
        "# Data Retrieval Differences: Lists vs. Dictionaries\n",
        "\n",
        "# Lists:\n",
        "# - Access by index:  Elements in a list are accessed by their numerical index (position).\n",
        "#   This is a direct access method with O(1) time complexity.\n",
        "# - Sequential access:  Iterating through a list is also relatively fast, with O(n) time complexity where n is the length of the list.\n",
        "# - No inherent key-value relationship: You retrieve elements based on their position within the list.\n",
        "my_list = [10, 20, 30, 40, 50]\n",
        "print(my_list[2])  # Access the element at index 2 (value 30)\n",
        "\n",
        "\n",
        "# Dictionaries:\n",
        "# - Access by key:  Elements are accessed using keys, not numerical indices. The key serves as a label or identifier for the value.\n",
        "# - Hash table-based lookup:  Dictionaries are implemented as hash tables, allowing for very fast key-based lookups (O(1) average time complexity).  This means that finding a value associated with a specific key is typically very efficient, even in large dictionaries.\n",
        "# - Key-value pairs:  Data in a dictionary is stored as key-value pairs. The key must be unique and immutable (like a string, number, or tuple).\n",
        "my_dict = {\"apple\": 1, \"banana\": 2, \"cherry\": 3}\n",
        "print(my_dict[\"banana\"])  # Access the value associated with the key \"banana\"\n"
      ],
      "metadata": {
        "colab": {
          "base_uri": "https://localhost:8080/"
        },
        "id": "i0-l-Oe6ftJ1",
        "outputId": "821189b1-fcd2-4603-f2ce-eda4a2e9f798"
      },
      "execution_count": null,
      "outputs": [
        {
          "output_type": "stream",
          "name": "stdout",
          "text": [
            "30\n",
            "2\n"
          ]
        }
      ]
    },
    {
      "cell_type": "markdown",
      "source": [
        "#Practical\n"
      ],
      "metadata": {
        "id": "TgN-UPq4mByY"
      }
    },
    {
      "cell_type": "code",
      "source": [
        "# 1.  Write a code to create a string with your name and print\n",
        "\n",
        "my_name = \"Your Name\"\n",
        "my_name\n"
      ],
      "metadata": {
        "colab": {
          "base_uri": "https://localhost:8080/",
          "height": 36
        },
        "id": "7Xw7bQtgmKVd",
        "outputId": "914a1e59-e2c5-40f4-ec89-a2c981c9e91e"
      },
      "execution_count": null,
      "outputs": [
        {
          "output_type": "execute_result",
          "data": {
            "text/plain": [
              "'Your Name'"
            ],
            "application/vnd.google.colaboratory.intrinsic+json": {
              "type": "string"
            }
          },
          "metadata": {},
          "execution_count": 3
        }
      ]
    },
    {
      "cell_type": "code",
      "source": [
        "# 2. Write a code to find the length of the string \"Hello World\"?\n",
        "greet = \"Hello World\";\n",
        "print(len(greet))"
      ],
      "metadata": {
        "colab": {
          "base_uri": "https://localhost:8080/"
        },
        "id": "zibjz52Wm_fT",
        "outputId": "4d23b9a3-d769-4cb9-e19b-8bc3ae0651d9"
      },
      "execution_count": null,
      "outputs": [
        {
          "output_type": "stream",
          "name": "stdout",
          "text": [
            "11\n"
          ]
        }
      ]
    },
    {
      "cell_type": "code",
      "source": [
        "# 3. Write a code to slice the first 3 characters from the string \"Python Programming\"\n",
        "\n",
        "my_string = \"Python Programming\"\n",
        "sliced_string = my_string[:3]  # Slice from the beginning up to (but not including) index 3\n",
        "sliced_string\n"
      ],
      "metadata": {
        "colab": {
          "base_uri": "https://localhost:8080/",
          "height": 36
        },
        "id": "8yiPx4VRnt0e",
        "outputId": "4cccd6e0-ccc7-4b3d-bc29-0f6693a802b4"
      },
      "execution_count": null,
      "outputs": [
        {
          "output_type": "execute_result",
          "data": {
            "text/plain": [
              "'Pyt'"
            ],
            "application/vnd.google.colaboratory.intrinsic+json": {
              "type": "string"
            }
          },
          "metadata": {},
          "execution_count": 6
        }
      ]
    },
    {
      "cell_type": "code",
      "source": [
        "# 4. Write a code to convert the string \"hello\" to uppercase.\n",
        "Word = \"Hello\"\n",
        "print(Word.upper())"
      ],
      "metadata": {
        "colab": {
          "base_uri": "https://localhost:8080/"
        },
        "id": "7fT9PWNRoPDM",
        "outputId": "e1767351-e508-41a1-df81-f4526b92e524"
      },
      "execution_count": null,
      "outputs": [
        {
          "output_type": "stream",
          "name": "stdout",
          "text": [
            "HELLO\n"
          ]
        }
      ]
    },
    {
      "cell_type": "code",
      "source": [
        "# 5 Write a code to replace the word \"apple\" with \"orange\" in the string \"I like apple\".\n",
        "fruits = [\"apple\", \"banana\", \"Guava\"]\n",
        "fruits[0] = \"orange\"\n",
        "print(fruits)"
      ],
      "metadata": {
        "colab": {
          "base_uri": "https://localhost:8080/"
        },
        "id": "6oyLCaLUof-B",
        "outputId": "ab002bfa-129a-4ef3-c558-564f6057febb"
      },
      "execution_count": null,
      "outputs": [
        {
          "output_type": "stream",
          "name": "stdout",
          "text": [
            "['orange', 'banana', 'Guava']\n"
          ]
        }
      ]
    },
    {
      "cell_type": "code",
      "source": [
        "#6 Write a code to create a list with numbers 1 to 5 and print it.\n",
        "numbers = [1, 2, 3, 4, 5]\n",
        "print(numbers)"
      ],
      "metadata": {
        "colab": {
          "base_uri": "https://localhost:8080/"
        },
        "id": "yCcQMni4o-3P",
        "outputId": "40c74b5e-2760-407d-ffa8-5120e69fd6c6"
      },
      "execution_count": null,
      "outputs": [
        {
          "output_type": "stream",
          "name": "stdout",
          "text": [
            "[1, 2, 3, 4, 5]\n"
          ]
        }
      ]
    },
    {
      "cell_type": "code",
      "source": [
        "#7 Write a code to append the number 10 to the list [1, 2, 3, 4].\n",
        "my_list = [1, 2, 3, 4]\n",
        "my_list.append(10)\n",
        "print(my_list)"
      ],
      "metadata": {
        "colab": {
          "base_uri": "https://localhost:8080/"
        },
        "id": "R6l9Bs6TpbkA",
        "outputId": "4580efa7-094b-4ad4-866e-40ed8ce58fa9"
      },
      "execution_count": null,
      "outputs": [
        {
          "output_type": "stream",
          "name": "stdout",
          "text": [
            "[1, 2, 3, 4, 10]\n"
          ]
        }
      ]
    },
    {
      "cell_type": "code",
      "source": [
        "#8. Write a code to remove the number 3 from the list [1, 2, 3, 4, 5].\n",
        "my_list = [1, 2, 3, 4, 5]\n",
        "my_list.remove(3)\n",
        "print(my_list)"
      ],
      "metadata": {
        "colab": {
          "base_uri": "https://localhost:8080/"
        },
        "id": "2omKNjMhpo7L",
        "outputId": "14727755-72de-4cf2-dd31-b8c657422881"
      },
      "execution_count": null,
      "outputs": [
        {
          "output_type": "stream",
          "name": "stdout",
          "text": [
            "[1, 2, 4, 5]\n"
          ]
        }
      ]
    },
    {
      "cell_type": "code",
      "source": [
        "# 9. Write a code to access the second element in the list ['a', 'b', 'c', 'd'].\n",
        "my_list = ['a', 'b', 'c', 'd']\n",
        "second_element = my_list[1]\n",
        "print(second_element)\n"
      ],
      "metadata": {
        "colab": {
          "base_uri": "https://localhost:8080/"
        },
        "id": "UNxdKvM3pxPK",
        "outputId": "2e5682dc-7e4b-4b55-b113-90ccfaf1a5c5"
      },
      "execution_count": null,
      "outputs": [
        {
          "output_type": "stream",
          "name": "stdout",
          "text": [
            "b\n"
          ]
        }
      ]
    },
    {
      "cell_type": "code",
      "source": [
        "#10. Write a code to reverse the list [10, 20, 30, 40, 50].\n",
        "my_list = [10, 20, 30, 40, 50]\n",
        "reversed_list = my_list[::-1]\n",
        "print(reversed_list)\n"
      ],
      "metadata": {
        "colab": {
          "base_uri": "https://localhost:8080/"
        },
        "id": "TSiRh_60rBaU",
        "outputId": "c204c7a3-3a61-4515-997f-c166921e9abd"
      },
      "execution_count": null,
      "outputs": [
        {
          "output_type": "stream",
          "name": "stdout",
          "text": [
            "[50, 40, 30, 20, 10]\n"
          ]
        }
      ]
    },
    {
      "cell_type": "code",
      "source": [
        "# 11. Write a code to create a tuple with the elements 100, 200, 300 and print it.\n",
        "my_tuple = (100, 200, 300)\n",
        "print(my_tuple)"
      ],
      "metadata": {
        "colab": {
          "base_uri": "https://localhost:8080/"
        },
        "id": "5vIadrlsrlr0",
        "outputId": "8714f2ec-6c46-437c-c760-bfbe38116f49"
      },
      "execution_count": null,
      "outputs": [
        {
          "output_type": "stream",
          "name": "stdout",
          "text": [
            "(100, 200, 300)\n"
          ]
        }
      ]
    },
    {
      "cell_type": "code",
      "source": [
        "#12. Write a code to access the second-to-last element of the tuple ('red', 'green', 'blue', 'yellow').\n",
        "my_tuple = ('red', 'green', 'blue', 'yellow')\n",
        "second_to_last_element = my_tuple[-2]\n",
        "print(second_to_last_element)\n"
      ],
      "metadata": {
        "colab": {
          "base_uri": "https://localhost:8080/"
        },
        "id": "Au7RTx0vrv3q",
        "outputId": "2f4e0356-09e2-42e0-fde4-7eb8095b0ec9"
      },
      "execution_count": null,
      "outputs": [
        {
          "output_type": "stream",
          "name": "stdout",
          "text": [
            "blue\n"
          ]
        }
      ]
    },
    {
      "cell_type": "code",
      "source": [
        "# 13. Write a code to find the minimum number in the tuple (10, 20, 5, 15).\n",
        "my_tuple = (10, 20, 5, 15)\n",
        "minimum_number = min(my_tuple)\n",
        "print(minimum_number)"
      ],
      "metadata": {
        "colab": {
          "base_uri": "https://localhost:8080/"
        },
        "id": "FpGBWKSbr_-g",
        "outputId": "87bf7dac-3f00-44e8-fb6e-df575b2cebaa"
      },
      "execution_count": null,
      "outputs": [
        {
          "output_type": "stream",
          "name": "stdout",
          "text": [
            "5\n"
          ]
        }
      ]
    },
    {
      "cell_type": "code",
      "source": [
        "# 14. Write a code to find the index of the element \"cat\" in the tuple ('dog', 'cat', 'rabbit').\n",
        "my_tuple = ('dog', 'cat', 'rabbit')\n",
        "index_of_cat = my_tuple.index('cat')\n",
        "print(index_of_cat)"
      ],
      "metadata": {
        "colab": {
          "base_uri": "https://localhost:8080/"
        },
        "id": "TqDqrlIdsIN_",
        "outputId": "33fc4420-0071-484c-dd73-8823530fc024"
      },
      "execution_count": null,
      "outputs": [
        {
          "output_type": "stream",
          "name": "stdout",
          "text": [
            "1\n"
          ]
        }
      ]
    },
    {
      "cell_type": "code",
      "source": [
        "# 15. Write a code to create a tuple containing three different fruits and check if \"kiwi\" is in it.\n",
        "fruits_tuple = (\"apple\", \"banana\", \"cherry\")\n",
        "is_kiwi_in_tuple = \"kiwi\" in fruits_tuple\n",
        "print(is_kiwi_in_tuple)"
      ],
      "metadata": {
        "colab": {
          "base_uri": "https://localhost:8080/"
        },
        "id": "VYBNuYqnsYZx",
        "outputId": "19dca9dd-0b9b-4764-efc1-f4584d3ce8ff"
      },
      "execution_count": null,
      "outputs": [
        {
          "output_type": "stream",
          "name": "stdout",
          "text": [
            "False\n"
          ]
        }
      ]
    },
    {
      "cell_type": "code",
      "source": [
        "# 16. Write a code to create a set with the elements 'a', 'b', 'c' and print it.\n",
        "Alpha_bet = {'a', 'b', 'c'}\n",
        "print(Alpha_bet)"
      ],
      "metadata": {
        "colab": {
          "base_uri": "https://localhost:8080/"
        },
        "id": "HwKpBj0KsjPg",
        "outputId": "af0b0857-ce30-4f35-ec78-70d954c517a8"
      },
      "execution_count": null,
      "outputs": [
        {
          "output_type": "stream",
          "name": "stdout",
          "text": [
            "{'c', 'a', 'b'}\n"
          ]
        }
      ]
    },
    {
      "cell_type": "code",
      "source": [
        "# 17 Write a code to clear all elements from the set {1, 2, 3, 4, 5}.\n",
        "my_set = {1, 2, 3, 4, 5}\n",
        "my_set.clear()\n",
        "print(my_set)"
      ],
      "metadata": {
        "colab": {
          "base_uri": "https://localhost:8080/"
        },
        "id": "veZUF6jetKCQ",
        "outputId": "82fd985b-0e31-4955-becf-b54e35f64fdb"
      },
      "execution_count": null,
      "outputs": [
        {
          "output_type": "stream",
          "name": "stdout",
          "text": [
            "set()\n"
          ]
        }
      ]
    },
    {
      "cell_type": "code",
      "source": [
        "# 18. Write a code to remove the element 4 from the set {1, 2, 3, 4}.\n",
        "my_set = {1, 2, 3, 4}\n",
        "my_set.remove(4)\n",
        "print(my_set)\n"
      ],
      "metadata": {
        "colab": {
          "base_uri": "https://localhost:8080/"
        },
        "id": "Ry0SA5mZtO64",
        "outputId": "4473af41-bfc1-4aa3-85c1-a04d5c829d6b"
      },
      "execution_count": null,
      "outputs": [
        {
          "output_type": "stream",
          "name": "stdout",
          "text": [
            "{1, 2, 3}\n"
          ]
        }
      ]
    },
    {
      "cell_type": "code",
      "source": [
        "# 19. Write a code to find the union of two sets {1, 2, 3} and {3, 4, 5}.\n",
        "\n",
        "set1 = {1, 2, 3}\n",
        "set2 = {3, 4, 5}\n",
        "\n",
        "union_set = set1.union(set2)  # or set1 | set2\n",
        "print(union_set)  # Output: {1, 2, 3, 4, 5}\n"
      ],
      "metadata": {
        "colab": {
          "base_uri": "https://localhost:8080/"
        },
        "id": "qNUQC1HluHfq",
        "outputId": "83c351f8-c4cf-4289-cb50-899272d7a81d"
      },
      "execution_count": null,
      "outputs": [
        {
          "output_type": "stream",
          "name": "stdout",
          "text": [
            "{1, 2, 3, 4, 5}\n"
          ]
        }
      ]
    },
    {
      "cell_type": "code",
      "source": [
        "# 20 Write a code to find the intersection of two sets {1, 2, 3} and {2, 3, 4}.\n",
        "set1 = {1, 2, 3}\n",
        "set2 = {2, 3, 4}\n",
        "\n",
        "intersection_set = set1.intersection(set2)  # or set1 & set2\n",
        "print(intersection_set)"
      ],
      "metadata": {
        "colab": {
          "base_uri": "https://localhost:8080/"
        },
        "id": "Af5KFawiuS1e",
        "outputId": "66489055-a90b-432a-c4c1-b3b784d06e0b"
      },
      "execution_count": null,
      "outputs": [
        {
          "output_type": "stream",
          "name": "stdout",
          "text": [
            "{2, 3}\n"
          ]
        }
      ]
    },
    {
      "cell_type": "code",
      "source": [
        "# 21. Write a code to create a dictionary with the keys \"name\", \"age\", and \"city\", and print it.\n",
        "my_dict = {\n",
        "    \"name\": \"Alice\",\n",
        "    \"age\": 30,\n",
        "    \"city\": \"New York\"\n",
        "}\n",
        "print(my_dict)"
      ],
      "metadata": {
        "colab": {
          "base_uri": "https://localhost:8080/"
        },
        "id": "T1pfffJgui9A",
        "outputId": "fef1ff9c-b4db-4e9a-937a-af9a9fff64d0"
      },
      "execution_count": null,
      "outputs": [
        {
          "output_type": "stream",
          "name": "stdout",
          "text": [
            "{'name': 'Alice', 'age': 30, 'city': 'New York'}\n"
          ]
        }
      ]
    },
    {
      "cell_type": "code",
      "source": [
        "# 22. Write a code to add a new key-value pair \"country\": \"USA\" to the dictionary {'name': 'John', 'age': 25}.\n",
        "my_dict = {'name': 'John', 'age': 25}\n",
        "my_dict['country'] = 'USA'\n",
        "print(my_dict)"
      ],
      "metadata": {
        "colab": {
          "base_uri": "https://localhost:8080/"
        },
        "id": "zvHWJgk3u1nJ",
        "outputId": "b052f260-5c41-4ba9-bd61-1b85c9f625d4"
      },
      "execution_count": null,
      "outputs": [
        {
          "output_type": "stream",
          "name": "stdout",
          "text": [
            "{'name': 'John', 'age': 25, 'country': 'USA'}\n"
          ]
        }
      ]
    },
    {
      "cell_type": "code",
      "source": [
        "# 23. Write a code to access the value associated with the key \"name\" in the dictionary {'name': 'Alice', 'age': 30}.\n",
        "my_dict = {'name': 'Alice', 'age': 30}\n",
        "print(my_dict['name'])\n",
        "print(my_dict['age'])"
      ],
      "metadata": {
        "colab": {
          "base_uri": "https://localhost:8080/"
        },
        "id": "dGYauuU8u4bG",
        "outputId": "da8ebd01-8adf-4c12-820e-9d090b4b93f5"
      },
      "execution_count": null,
      "outputs": [
        {
          "output_type": "stream",
          "name": "stdout",
          "text": [
            "Alice\n",
            "30\n"
          ]
        }
      ]
    },
    {
      "cell_type": "code",
      "source": [
        "# 24. Write a code to remove the key \"age\" from the dictionary {'name': 'Bob', 'age': 22, 'city': 'New York'}.\n",
        "my_dict = {'name': 'Bob', 'age': 22, 'city': 'New York'}\n",
        "del my_dict['age']\n",
        "print(my_dict)"
      ],
      "metadata": {
        "colab": {
          "base_uri": "https://localhost:8080/"
        },
        "id": "khjEG1uQvpKT",
        "outputId": "e37764da-15fa-4ae4-ce78-855c10d994f1"
      },
      "execution_count": null,
      "outputs": [
        {
          "output_type": "stream",
          "name": "stdout",
          "text": [
            "{'name': 'Bob', 'city': 'New York'}\n"
          ]
        }
      ]
    },
    {
      "cell_type": "code",
      "source": [
        "# 25. Write a code to check if the key \"city\" exists in the dictionary {'name': 'Alice', 'city': 'Paris'}.\n",
        "my_dict = {'name': 'Alice', 'city': 'Paris'}\n",
        "if 'city' in my_dict:\n",
        "    print(\"The key 'city' exists in the dictionary.\")\n",
        "else:\n",
        "    print(\"The key 'city' does not exist in the dictionary.\")"
      ],
      "metadata": {
        "colab": {
          "base_uri": "https://localhost:8080/"
        },
        "id": "fiuPARTPv1S7",
        "outputId": "0365a5df-8e6c-4fdd-9a6e-6b5e465e15e5"
      },
      "execution_count": null,
      "outputs": [
        {
          "output_type": "stream",
          "name": "stdout",
          "text": [
            "The key 'city' exists in the dictionary.\n"
          ]
        }
      ]
    },
    {
      "cell_type": "code",
      "source": [
        "# 26. Write a code to create a list, a tuple, and a dictionary, and print them all.\n",
        "my_list = [1, 2, 3, 4, 5]\n",
        "my_tuple = (10, 20, 30, 40, 50)\n",
        "my_dict = {'name': 'John', 'age': 25}\n",
        "\n",
        "print(\"List:\", my_list)\n",
        "print(\"Tuple:\", my_tuple)\n",
        "print(\"Dictionary:\", my_dict)"
      ],
      "metadata": {
        "colab": {
          "base_uri": "https://localhost:8080/"
        },
        "id": "1HIl3xHmwWpb",
        "outputId": "2842775d-0bbb-498a-b2e4-e16dc1fdd247"
      },
      "execution_count": null,
      "outputs": [
        {
          "output_type": "stream",
          "name": "stdout",
          "text": [
            "List: [1, 2, 3, 4, 5]\n",
            "Tuple: (10, 20, 30, 40, 50)\n",
            "Dictionary: {'name': 'John', 'age': 25}\n"
          ]
        }
      ]
    },
    {
      "cell_type": "code",
      "source": [
        " # 27. Write a code to create a list of 5 random numbers between 1 and 100, sort it in ascending order, and print the\n",
        " # result.(replaced)\n",
        "\n",
        "import random\n",
        "\n",
        "def generate_and_sort_random_numbers():\n",
        "    random_numbers = random.sample(range(1, 101), 5)  # Generate 5 unique random numbers\n",
        "    random_numbers.sort()  # Sort the list in ascending order\n",
        "    return random_numbers\n",
        "\n",
        "# Example usage:\n",
        "sorted_numbers = generate_and_sort_random_numbers()\n",
        "sorted_numbers\n"
      ],
      "metadata": {
        "colab": {
          "base_uri": "https://localhost:8080/"
        },
        "id": "tJYZl-ztwhb0",
        "outputId": "a1471eed-6533-4c07-b6e5-27af1f2ca33b"
      },
      "execution_count": null,
      "outputs": [
        {
          "output_type": "execute_result",
          "data": {
            "text/plain": [
              "[3, 32, 53, 91, 94]"
            ]
          },
          "metadata": {},
          "execution_count": 35
        }
      ]
    },
    {
      "cell_type": "code",
      "source": [
        "# 28. Write a code to create a list with strings and print the element at the third index.\n",
        "\n",
        "my_list = [\"apple\", \"banana\", \"cherry\", \"date\", \"elderberry\"]\n",
        "print(my_list[2])"
      ],
      "metadata": {
        "colab": {
          "base_uri": "https://localhost:8080/"
        },
        "id": "lbHuxd8OWAx5",
        "outputId": "4b10a46c-bf34-410b-9518-cb55e559d347"
      },
      "execution_count": 1,
      "outputs": [
        {
          "output_type": "stream",
          "name": "stdout",
          "text": [
            "cherry\n"
          ]
        }
      ]
    },
    {
      "cell_type": "markdown",
      "source": [],
      "metadata": {
        "id": "Fk5TTrK2WUdL"
      }
    },
    {
      "cell_type": "code",
      "source": [
        "# 29. Write a code to combine two dictionaries into one and print the result.\n"
      ],
      "metadata": {
        "id": "qbZTn7wUWMiy"
      },
      "execution_count": null,
      "outputs": []
    },
    {
      "cell_type": "code",
      "source": [
        "# 29. Write a code to combine two dictionaries into one and print the result.\n",
        "\n",
        "def combine_dictionaries(dict1, dict2):\n",
        "  \"\"\"\n",
        "  Combines two dictionaries into one.\n",
        "  \"\"\"\n",
        "  combined_dict = dict1.copy()\n",
        "  combined_dict.update(dict2)\n",
        "  return combined_dict\n",
        "\n",
        "# Example usage\n",
        "dict1 = {'a': 1, 'b': 2}\n",
        "dict2 = {'c': 3, 'd': 4, 'b': 5}  # Note: Key 'b' exists in both\n",
        "\n",
        "combined = combine_dictionaries(dict1, dict2)\n",
        "print(combined)"
      ],
      "metadata": {
        "colab": {
          "base_uri": "https://localhost:8080/"
        },
        "id": "k8DjI-KzWVVD",
        "outputId": "8df8a29c-f181-4c86-9e3c-f724288f06d4"
      },
      "execution_count": 2,
      "outputs": [
        {
          "output_type": "stream",
          "name": "stdout",
          "text": [
            "{'a': 1, 'b': 5, 'c': 3, 'd': 4}\n"
          ]
        }
      ]
    },
    {
      "cell_type": "code",
      "source": [
        "# 30  Write a code to convert a list of strings into a set.\n",
        "\n",
        "def convert_string_list_to_set(string_list):\n",
        "  \"\"\"Converts a list of strings to a set.\n",
        "  \"\"\"\n",
        "  return set(string_list)\n",
        "\n",
        "# Example usage\n",
        "my_list = [\"apple\", \"banana\", \"cherry\", \"apple\", \"date\"]\n",
        "my_set = convert_string_list_to_set(my_list)\n",
        "my_set\n"
      ],
      "metadata": {
        "colab": {
          "base_uri": "https://localhost:8080/"
        },
        "id": "vReXv5YZWrd0",
        "outputId": "9bcaf9fd-0514-4063-da9b-d065c56cfdef"
      },
      "execution_count": 3,
      "outputs": [
        {
          "output_type": "execute_result",
          "data": {
            "text/plain": [
              "{'apple', 'banana', 'cherry', 'date'}"
            ]
          },
          "metadata": {},
          "execution_count": 3
        }
      ]
    }
  ]
}