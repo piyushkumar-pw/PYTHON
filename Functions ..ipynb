{
  "nbformat": 4,
  "nbformat_minor": 0,
  "metadata": {
    "colab": {
      "provenance": []
    },
    "kernelspec": {
      "name": "python3",
      "display_name": "Python 3"
    },
    "language_info": {
      "name": "python"
    }
  },
  "cells": [
    {
      "cell_type": "markdown",
      "source": [
        "# Theory Questions"
      ],
      "metadata": {
        "id": "jExHBOldsS3P"
      }
    },
    {
      "cell_type": "code",
      "execution_count": 3,
      "metadata": {
        "colab": {
          "base_uri": "https://localhost:8080/"
        },
        "id": "UCaCp15wsQj6",
        "outputId": "ab6ba063-1bc3-4779-c3f3-0fa59d3b9e7d"
      },
      "outputs": [
        {
          "output_type": "stream",
          "name": "stdout",
          "text": [
            "10\n",
            "10\n"
          ]
        }
      ],
      "source": [
        "# Q1. => What is the difference between a function and a method in Python?\n",
        "'''\n",
        "Functions:- Functions are defined using the def keyword and can exist independently of any class.\n",
        "            Functions can be called anywhere in the code after they are defined, and they do not rely on any instance of a class.\n",
        "Methods:- Methods are functions that are defined within a class and are associated with instances of that class.\n",
        "          Methods are called on objects (instances of a class) and can access and modify the object's attributes.\n",
        "'''\n",
        "# Example of Function\n",
        "def my_function(x):\n",
        "  return x * 2\n",
        "\n",
        "result = my_function(5)\n",
        "print(result)\n",
        "\n",
        "# Example of Methods\n",
        "class MyClass:\n",
        "  def my_method(self, x):\n",
        "    return x * 2\n",
        "obj = MyClass()\n",
        "result = obj.my_method(5)\n",
        "print(result)"
      ]
    },
    {
      "cell_type": "code",
      "source": [
        "# Q2. =>  Explain the concept of function arguments and parameters in Python.\n",
        "'''\n",
        "Parameters:- Parameters are the variables that are listed inside the parentheses in the function definition.\n",
        "             They act as placeholders for the values that will be passed to the function.\n",
        "Arguments:- Arguments are the actual values that are passed to the function when it is called.\n",
        "            These values are assigned to the corresponding parameters.\n",
        "'''\n",
        "def greet(name): # 'name' is a parameter\n",
        "  print(f\"Hello, {name}!\")\n",
        "\n",
        "greet(\"Ashish\") # \"Alice\" is an argument"
      ],
      "metadata": {
        "colab": {
          "base_uri": "https://localhost:8080/"
        },
        "id": "xmaMZSSdtxF7",
        "outputId": "c2c203b5-02c1-4517-f7ef-13fb839475a2"
      },
      "execution_count": 5,
      "outputs": [
        {
          "output_type": "stream",
          "name": "stdout",
          "text": [
            "Hello, Ashish!\n"
          ]
        }
      ]
    },
    {
      "cell_type": "code",
      "source": [
        "# Q3. =>  What are the different ways to define and call a function in Python?\n",
        "'''\n",
        "1. Regular Function Definition and Call:- Using the def keyword to create a function.\n",
        "                                          Invoking the function by its name followed by parentheses\n",
        "2. Lambda Functions:-Anonymous functions defined using the lambda keyword.\n",
        "                     Invoking the function by assigning it to a variable or using it directly.\n",
        "3. Functions with Default Parameters:- Defining functions with parameters that have default values.\n",
        "                                       Invoking the function with or without arguments for the default parameters.\n",
        "4. Functions with Variable-Length Arguments:- Using *args for variable-length positional arguments and **kwargs for variable-length keyword arguments.\n",
        "                                              Passing multiple arguments and keyword arguments.\n",
        "'''\n",
        "# Define a function\n",
        "def greet(name):\n",
        "  return f\"Hello, {name}!\"\n",
        "# Call the function\n",
        "print(greet(\"Ashish\"))\n",
        "\n",
        "# Define a lambda function\n",
        "add = lambda x, y: x + y\n",
        "# Call the lambda function\n",
        "print(add(5, 3)) # Output: 8\n",
        "\n",
        "# Define a function with *args and **kwargs\n",
        "def func_with_args_kwargs(*args, **kwargs):\n",
        "  print(\"Args:\", args)\n",
        "  print(\"Kwargs:\", kwargs)\n",
        "# Call the function\n",
        "func_with_args_kwargs(1, 2, 3, a=10, b=20)"
      ],
      "metadata": {
        "colab": {
          "base_uri": "https://localhost:8080/"
        },
        "id": "wDctrbLDwgfe",
        "outputId": "1494fe06-eb6b-4ced-9cba-37803af8dcfd"
      },
      "execution_count": 8,
      "outputs": [
        {
          "output_type": "stream",
          "name": "stdout",
          "text": [
            "Hello, Ashish!\n",
            "8\n",
            "Args: (1, 2, 3)\n",
            "Kwargs: {'a': 10, 'b': 20}\n"
          ]
        }
      ]
    },
    {
      "cell_type": "code",
      "source": [
        "# Q4. => What is the purpose of the `return` statement in a Python function?\n",
        "'''\n",
        "1. Returning Values:- The main purpose of the return statement is to send a result back to the caller of the function.\n",
        "                      It allows a function to output a value, which can then be used elsewhere in the code.\n",
        "2. Exiting a Function:- The return statement also causes the function to exit immediately.\n",
        "                        Once a return statement is executed, the function stops executing any further code within it.\n",
        "3.Returning Multiple Values:- In Python, you can return multiple values from a function by separating them with commas. The returned values are packed into a tuple.\n",
        "4.Default Return Value:- If a function does not explicitly use a return statement, or the return statement does not have an expression, the function returns None by default.\n",
        "'''\n",
        "def no_return():\n",
        "  pass\n",
        "result = no_return()\n",
        "print(result)\n",
        "\n",
        "def add(a, b):\n",
        "  return a + b\n",
        "result = add(5, 3)\n",
        "print(result)"
      ],
      "metadata": {
        "colab": {
          "base_uri": "https://localhost:8080/"
        },
        "id": "vimnM6U6ySf6",
        "outputId": "56aaa27c-585d-4982-c8d4-6225bf67c12e"
      },
      "execution_count": 9,
      "outputs": [
        {
          "output_type": "stream",
          "name": "stdout",
          "text": [
            "None\n",
            "8\n"
          ]
        }
      ]
    },
    {
      "cell_type": "code",
      "source": [
        "# Q5. =>  What are iterators in Python and how do they differ from iterables?\n",
        "'''\n",
        "Iterators:- An iterator is an object that contains a countable number of values and can be iterated upon, meaning you can traverse through all the values.\n",
        "            It implements the iterator protocol, which consists of the methods __iter__() and __next__().\n",
        "           __iter__(): Returns the iterator object itself and is implicitly called at the start of loops.\n",
        "           __next__(): Returns the next value from the iterator. When no more values are available, it raises a StopIteration exception.\n",
        "\n",
        "Iterables:- An iterable is any Python object capable of returning its members one at a time, allowing it to be iterated over in a loop.\n",
        "            Examples include lists, tuples, dictionaries, sets, and strings.\n",
        "            __iter__(): Returns an iterator object. This method is implicitly called by the for loop to iterate over the iterable.\n",
        "\n",
        "'''\n",
        "\n",
        "my_list = [1, 2, 3]\n",
        "my_iter = iter(my_list) # Get an iterator from the list\n",
        "print(next(my_iter))\n",
        "print(next(my_iter))\n",
        "print(next(my_iter))\n",
        "\n",
        "my_list = [1, 2, 3] # This is an iterable\n",
        "for item in my_list:\n",
        "  print(item)"
      ],
      "metadata": {
        "colab": {
          "base_uri": "https://localhost:8080/"
        },
        "id": "cPMRUMziz0Rf",
        "outputId": "7b30862b-7d2a-4fdd-eeb1-63078ba5ea0b"
      },
      "execution_count": 10,
      "outputs": [
        {
          "output_type": "stream",
          "name": "stdout",
          "text": [
            "1\n",
            "2\n",
            "3\n",
            "1\n",
            "2\n",
            "3\n"
          ]
        }
      ]
    },
    {
      "cell_type": "code",
      "source": [
        "# Q6. =>  Explain the concept of generators in Python and how they are defined.\n",
        "'''\n",
        "Generators are a special type of iterable in Python that allow you to iterate through a sequence of values without storing the entire sequence in memory.\n",
        "They are particularly useful for working with large datasets or streams of data where it would be inefficient to store all the elements in memory at once.\n",
        "\n",
        "1. Generator Functions: - Generator functions are defined using the def keyword, just like regular functions.\n",
        "                          However, instead of using return to return a value, they use the yield keyword to yield a value, one at a time.\n",
        "2. Generator Expressions:-Generator expressions are similar to list comprehensions but with parentheses instead of square brackets.\n",
        "                          They provide a concise way to create generators.\n",
        "3. Memory Efficiency:- Generators generate values on the fly and yield them one by one, which makes them memory-efficient, especially when dealing with large datasets.\n",
        "                       Unlike lists or tuples, generators do not store their values in memory. They generate each value as needed.\n",
        "'''\n",
        "def simple_generator():\n",
        "  yield 1\n",
        "  yield 2\n",
        "  yield 3\n",
        "\n",
        "# Create a generator object\n",
        "gen = simple_generator() # Iterate through the generator\n",
        "for value in gen:\n",
        "  print(value)"
      ],
      "metadata": {
        "colab": {
          "base_uri": "https://localhost:8080/"
        },
        "id": "GeiAK6Rb1VS-",
        "outputId": "125764d7-df43-4ce7-b9c9-08752584be45"
      },
      "execution_count": 11,
      "outputs": [
        {
          "output_type": "stream",
          "name": "stdout",
          "text": [
            "1\n",
            "2\n",
            "3\n"
          ]
        }
      ]
    },
    {
      "cell_type": "code",
      "source": [
        "# Q7. => What are the advantages of using generators over regular functions?\n",
        "'''\n",
        "1. Memory Efficiency:- Generators produce items one at a time and only when required, instead of generating all the items at once and storing them in memory.\n",
        "                       This is particularly beneficial when working with large datasets or infinite sequences.\n",
        "2. Lazy Evaluation:-   Generators compute values on the fly as they are needed.\n",
        "                       This means that you can work with sequences that are computationally expensive or impossible to create in a regular function.\n",
        "3. Improved Performance:- By producing items one at a time, generators can start yielding results immediately without waiting to generate\n",
        "                          the entire sequence, leading to faster execution for initial results.\n",
        "\n",
        "'''\n",
        "squares = (x * x for x in range(10))\n",
        "for square in squares:\n",
        "    print(square)"
      ],
      "metadata": {
        "colab": {
          "base_uri": "https://localhost:8080/"
        },
        "id": "92nncUyE3PIB",
        "outputId": "30befe09-7b83-4f2f-8cf7-02063509edc0"
      },
      "execution_count": 18,
      "outputs": [
        {
          "output_type": "stream",
          "name": "stdout",
          "text": [
            "0\n",
            "1\n",
            "4\n",
            "9\n",
            "16\n",
            "25\n",
            "36\n",
            "49\n",
            "64\n",
            "81\n"
          ]
        }
      ]
    },
    {
      "cell_type": "code",
      "source": [
        "# Q8. => What is a lambda function in Python and when is it typically used?\n",
        "'''\n",
        "Lambda Functions in Python:- Lambda functions, also known as anonymous functions, are small, unnamed functions defined using the lambda keyword.\n",
        "                             They can have any number of parameters but can only contain a single expression.\n",
        "                             The result of the expression is implicitly returned.\n",
        "Typical Uses:-\n",
        "1) Short, Simple Functions:\n",
        "                  Inline Operations: Useful for defining short functions that are used only once or for a limited scope.\n",
        "\n",
        "2) Higher-Order Functions:\n",
        "                  Arguments: Frequently used as arguments to higher-order functions that take other functions as input, such as map(), filter(), and sorted().\n",
        "3) Key Functions in Sorting:\n",
        "                  Custom Sorting: Used for specifying custom sorting criteria in functions like sorted() and sort().\n",
        "'''\n",
        "# Sorting a list of tuples by the second element\n",
        "data = [(1, 'banana'), (2, 'apple'), (3, 'cherry')]\n",
        "sorted_data = sorted(data, key=lambda x: x[1])\n",
        "print(sorted_data)"
      ],
      "metadata": {
        "colab": {
          "base_uri": "https://localhost:8080/"
        },
        "id": "BXNsmyN54I5n",
        "outputId": "411a1f09-1f8a-4c85-e10a-f24c0464a962"
      },
      "execution_count": 19,
      "outputs": [
        {
          "output_type": "stream",
          "name": "stdout",
          "text": [
            "[(2, 'apple'), (1, 'banana'), (3, 'cherry')]\n"
          ]
        }
      ]
    },
    {
      "cell_type": "code",
      "source": [
        "# Q9. => Explain the purpose and usage of the `map()` function in Python.\n",
        "'''\n",
        "1) map() Function in Python:- The map() function is a built-in function in Python that allows you to apply a specified function to each item of an iterable (such as a list or a tuple) and\n",
        "                           return a map object (an iterator) with the results\n",
        "2) Purpose:- The primary purpose of the map() function is to transform the items of an iterable by applying a given function to each item.\n",
        "             This is particularly useful when you need to perform the same operation on all elements of a list or other iterable in a concise and efficient manner.\n",
        "3) Usage:- Single Iterable Transformation\n",
        "           Using Lambda with map()\n",
        "           Multiple Iterables\n",
        "'''\n",
        "# Multiple Iterables\n",
        "numbers1 = [1, 2, 3]\n",
        "numbers2 = [4, 5, 6]\n",
        "summed_numbers = map(lambda x, y: x + y, numbers1, numbers2)\n",
        "print(list(summed_numbers))\n",
        "\n",
        "# Define a function to double a number\n",
        "def double(x): return x * 2\n",
        "# Define a list of numbers\n",
        "numbers = [1, 2, 3, 4, 5]\n",
        "# Use map() to apply the double function to each element in the list\n",
        "doubled_numbers = map(double, numbers)\n",
        "# Convert the map object to a list and print the result\n",
        "print(list(doubled_numbers))"
      ],
      "metadata": {
        "colab": {
          "base_uri": "https://localhost:8080/"
        },
        "id": "pw_i9Uuf5PUr",
        "outputId": "9ce6a30d-6c0c-4b9a-ca81-2465570c0158"
      },
      "execution_count": 20,
      "outputs": [
        {
          "output_type": "stream",
          "name": "stdout",
          "text": [
            "[5, 7, 9]\n",
            "[2, 4, 6, 8, 10]\n"
          ]
        }
      ]
    },
    {
      "cell_type": "code",
      "source": [
        "# Q10. =>  What is the difference between `map()`, `reduce()`, and `filter()` functions in Python?\n",
        "'''\n",
        "1) map() Function:- Applies a specified function to each item of an iterable (e.g., list, tuple) and returns a map object (an iterator) with the results.\n",
        "                    Used when you want to transform each element in a sequence.\n",
        "2) filter() Function:- Filters elements from an iterable based on a specified function that returns either True or False.\n",
        "                       Only elements for which the function returns True are included in the resulting iterator.\n",
        "                       Used when you want to extract elements from a sequence that meet certain criteria.\n",
        "3) reduce() Function:- Applies a specified function cumulatively to the items of an iterable, from left to right, to reduce the iterable to a single value.\n",
        "                       Unlike map() and filter(), reduce() is not a built-in function and must be imported from the functools module.\n",
        "                       Used when you need to perform a reduction operation, such as summing or multiplying all elements in a sequence.\n",
        "\n",
        "'''\n",
        "\n",
        "'''\n",
        "Syntax:- map(function, iterable, ...)\n",
        "         filter(function, iterable)\n",
        "         reduce(function, iterable, initializer)\n",
        "'''\n",
        "numbers = [1, 2, 3, 4]\n",
        "doubled = map(lambda x: x * 2, numbers)\n",
        "print(list(doubled))\n",
        "\n",
        "numbers = [1, 2, 3, 4, 5, 6]\n",
        "even_numbers = filter(lambda x: x % 2 == 0, numbers)\n",
        "print(list(even_numbers))\n",
        "\n",
        "from functools import reduce\n",
        "numbers = [1, 2, 3, 4]\n",
        "sum_of_numbers = reduce(lambda x, y: x + y, numbers)\n",
        "print(sum_of_numbers)"
      ],
      "metadata": {
        "colab": {
          "base_uri": "https://localhost:8080/"
        },
        "id": "2hxGzgE65Wf4",
        "outputId": "b329a297-3c31-4b4c-cf02-1af139e94c54"
      },
      "execution_count": 21,
      "outputs": [
        {
          "output_type": "stream",
          "name": "stdout",
          "text": [
            "[2, 4, 6, 8]\n",
            "[2, 4, 6]\n",
            "10\n"
          ]
        }
      ]
    },
    {
      "cell_type": "code",
      "source": [],
      "metadata": {
        "id": "tuf1HsOOJbbB"
      },
      "execution_count": null,
      "outputs": []
    },
    {
      "cell_type": "markdown",
      "source": [
        "# Practical Questions"
      ],
      "metadata": {
        "id": "_G4d0_-Z8s23"
      }
    },
    {
      "cell_type": "code",
      "source": [
        "# Q1. =>  Write a Python function that takes a list of numbers as input and returns the sum of all even numbers in the list.\n",
        "def sum_of_even_numbers(numbers):\n",
        "    # Use a list comprehension to filter even numbers and sum them\n",
        "    return sum(num for num in numbers if num % 2 == 0)\n",
        "\n",
        "# Example usage\n",
        "numbers_list = [1, 2, 3, 4, 5, 6, 7, 8, 9, 10]\n",
        "result = sum_of_even_numbers(numbers_list)\n",
        "print(result)  # Output: 30\n"
      ],
      "metadata": {
        "colab": {
          "base_uri": "https://localhost:8080/"
        },
        "id": "J-6chYeG8yzw",
        "outputId": "2b3e79a9-3d60-4d42-8b15-17cddee97fc4"
      },
      "execution_count": 22,
      "outputs": [
        {
          "output_type": "stream",
          "name": "stdout",
          "text": [
            "30\n"
          ]
        }
      ]
    },
    {
      "cell_type": "code",
      "source": [
        "# Q2.=>  Create a Python function that accepts a string and returns the reverse of that string.\n",
        "def reverse_string(s):\n",
        "    # Use slicing to reverse the string\n",
        "    return s[::-1]\n",
        "\n",
        "# Example usage\n",
        "input_string = \"Hello, World!\"\n",
        "reversed_string = reverse_string(input_string)\n",
        "print(reversed_string)  # Output: !dlroW ,olleH\n"
      ],
      "metadata": {
        "colab": {
          "base_uri": "https://localhost:8080/"
        },
        "id": "603qs8-h9MpX",
        "outputId": "4d0bcec7-ed71-4555-f1b7-bd87be44efbc"
      },
      "execution_count": 23,
      "outputs": [
        {
          "output_type": "stream",
          "name": "stdout",
          "text": [
            "!dlroW ,olleH\n"
          ]
        }
      ]
    },
    {
      "cell_type": "code",
      "source": [
        "# Q3. =>  Implement a Python function that takes a list of integers and returns a new list containing the squares of each number.\n",
        "def square_numbers(numbers):\n",
        "    # Use a list comprehension to create a new list with the squares of each number\n",
        "    return [num ** 2 for num in numbers]\n",
        "\n",
        "# Example usage\n",
        "numbers_list = [1, 2, 3, 4, 5]\n",
        "squared_list = square_numbers(numbers_list)\n",
        "print(squared_list)  # Output: [1, 4, 9, 16, 25]\n"
      ],
      "metadata": {
        "colab": {
          "base_uri": "https://localhost:8080/"
        },
        "id": "OCSJGV8Q_k5s",
        "outputId": "b9fe322a-3374-4b8f-869d-9dc1638a9d65"
      },
      "execution_count": 24,
      "outputs": [
        {
          "output_type": "stream",
          "name": "stdout",
          "text": [
            "[1, 4, 9, 16, 25]\n"
          ]
        }
      ]
    },
    {
      "cell_type": "code",
      "source": [
        "# Q4. => Write a Python function that checks if a given number is prime or not from 1 to 200.\n",
        "def prime(num):\n",
        "    if num <= 1:\n",
        "        return \"non prime\"\n",
        "    for i in range(2, num):\n",
        "        if num % i == 0:\n",
        "            return \"non prime\"\n",
        "    return \"prime\"\n",
        "prime(12)"
      ],
      "metadata": {
        "colab": {
          "base_uri": "https://localhost:8080/",
          "height": 35
        },
        "id": "6tr6b-VK_8fx",
        "outputId": "5fcafa53-f65f-4f26-c2d3-ed4233729575"
      },
      "execution_count": 30,
      "outputs": [
        {
          "output_type": "execute_result",
          "data": {
            "text/plain": [
              "'non prime'"
            ],
            "application/vnd.google.colaboratory.intrinsic+json": {
              "type": "string"
            }
          },
          "metadata": {},
          "execution_count": 30
        }
      ]
    },
    {
      "cell_type": "code",
      "source": [
        "# Q5. =>  Create an iterator class in Python that generates the Fibonacci sequence up to a specified number of terms.\n",
        "class FibonacciIterator:\n",
        "    def __init__(self, n):\n",
        "        self.n = n\n",
        "        self.a, self.b = 0, 1\n",
        "        self.count = 0\n",
        "\n",
        "    def __iter__(self):\n",
        "        return self\n",
        "\n",
        "    def __next__(self):\n",
        "        if self.count >= self.n:\n",
        "            raise StopIteration\n",
        "        self.count += 1\n",
        "        current = self.a\n",
        "        self.a, self.b = self.b, self.a + self.b\n",
        "        return current\n",
        "\n",
        "fib = FibonacciIterator(12)\n",
        "for num in fib:\n",
        "    print(num)"
      ],
      "metadata": {
        "colab": {
          "base_uri": "https://localhost:8080/"
        },
        "id": "wk4u7HyTAyv4",
        "outputId": "372f063d-1000-47c2-9534-d773d30c7e49"
      },
      "execution_count": 31,
      "outputs": [
        {
          "output_type": "stream",
          "name": "stdout",
          "text": [
            "0\n",
            "1\n",
            "1\n",
            "2\n",
            "3\n",
            "5\n",
            "8\n",
            "13\n",
            "21\n",
            "34\n",
            "55\n",
            "89\n"
          ]
        }
      ]
    },
    {
      "cell_type": "code",
      "source": [
        "# Q6. => Write a generator function in Python that yields the powers of 2 up to a given exponent.\n",
        "def powers_of_2(max_exponent):\n",
        "    for exponent in range(max_exponent + 1):\n",
        "        yield 2 ** exponent\n",
        "\n",
        "# Example usage\n",
        "for power in powers_of_2(5):\n",
        "    print(power)\n"
      ],
      "metadata": {
        "colab": {
          "base_uri": "https://localhost:8080/"
        },
        "id": "6Cw3RUcFCCEO",
        "outputId": "b8f30628-38bd-49bc-eca0-f933afe139e1"
      },
      "execution_count": 32,
      "outputs": [
        {
          "output_type": "stream",
          "name": "stdout",
          "text": [
            "1\n",
            "2\n",
            "4\n",
            "8\n",
            "16\n",
            "32\n"
          ]
        }
      ]
    },
    {
      "cell_type": "code",
      "source": [
        "# Q7. => Implement a generator function that reads a file line by line and yields each line as a string.\n",
        "def read(file_path):\n",
        "    with open(file_path, 'r') as file:\n",
        "        for line in file:\n",
        "            yield line.strip()\n",
        "\n",
        "file_path = \"example.txt\"\n",
        "print(\"Contents of the file:\")\n",
        "for line in read(file_path):\n",
        "    print(line)\n",
        ""
      ],
      "metadata": {
        "id": "231TqYgQCm80"
      },
      "execution_count": null,
      "outputs": []
    },
    {
      "cell_type": "code",
      "source": [
        "# Q8. =>  Use a lambda function in Python to sort a list of tuples based on the second element of each tuple.\n",
        "\n",
        "# Define a list of tuples\n",
        "tuples_list = [(1, 'banana'), (2, 'apple'), (3, 'cherry'), (4, 'date')]\n",
        "\n",
        "# Sort the list of tuples based on the second element using a lambda function\n",
        "sorted_tuples = sorted(tuples_list, key=lambda x: x[1])\n",
        "\n",
        "# Print the sorted list\n",
        "print(sorted_tuples)\n"
      ],
      "metadata": {
        "colab": {
          "base_uri": "https://localhost:8080/"
        },
        "id": "kAGHgP2EDHFn",
        "outputId": "da1bb880-6ed6-4dd5-dbbe-1af490a10f3c"
      },
      "execution_count": 35,
      "outputs": [
        {
          "output_type": "stream",
          "name": "stdout",
          "text": [
            "[(2, 'apple'), (1, 'banana'), (3, 'cherry'), (4, 'date')]\n"
          ]
        }
      ]
    },
    {
      "cell_type": "code",
      "source": [
        "# Q9. => Write a Python program that uses `map()` to convert a list of temperatures from Celsius to Fahrenheit.\n",
        "def celsius_to_fahrenheit(celsius):\n",
        "  return (celsius * 9/5) + 32\n",
        "\n",
        "# List of temperatures in Celsius\n",
        "celsius_temperatures = [0, 20, 37, 100]\n",
        "\n",
        "# Convert each Celsius temperature to Fahrenheit using map()\n",
        "fahrenheit_temperatures = map(celsius_to_fahrenheit, celsius_temperatures)\n",
        "\n",
        "# Convert the map object to a list and print the result\n",
        "print(list(fahrenheit_temperatures))"
      ],
      "metadata": {
        "colab": {
          "base_uri": "https://localhost:8080/"
        },
        "id": "AyBrt290DquK",
        "outputId": "9cdf2eaa-29e2-44a0-c868-faca0747320a"
      },
      "execution_count": 36,
      "outputs": [
        {
          "output_type": "stream",
          "name": "stdout",
          "text": [
            "[32.0, 68.0, 98.6, 212.0]\n"
          ]
        }
      ]
    },
    {
      "cell_type": "code",
      "source": [
        "# Q10. => Create a Python program that uses `filter()` to remove all the vowels from a given string.\n",
        "def remove_vowels(input_string):\n",
        "    vowels = 'aeiouAEIOU'\n",
        "    # Use filter() to remove vowels from the input string\n",
        "    no_vowels = filter(lambda char: char not in vowels, input_string)\n",
        "    # Join the characters back into a string\n",
        "    return ''.join(no_vowels)\n",
        "\n",
        "# Example usage\n",
        "input_string = \"Hello, World!\"\n",
        "result = remove_vowels(input_string)\n",
        "print(result)  # Output: \"Hll, Wrld!\"\n"
      ],
      "metadata": {
        "colab": {
          "base_uri": "https://localhost:8080/"
        },
        "id": "cDHagFdqEH4B",
        "outputId": "4089a93a-6220-4b3c-97ad-08815fcccd6e"
      },
      "execution_count": 37,
      "outputs": [
        {
          "output_type": "stream",
          "name": "stdout",
          "text": [
            "Hll, Wrld!\n"
          ]
        }
      ]
    },
    {
      "cell_type": "code",
      "source": [
        "'''Q11  Imagine an accounting routine used in a book shop. It works on a list with sublists, which look like this:\n",
        "\n",
        "    ordernumber    booktitle                 author             quantity    price per item\n",
        "    34587         Learning Python           Mark Lutz              4            40.95\n",
        "    98762        Programming Python         Mark Lutz              5            56.80\n",
        "    77226        head first python          paul barry             3            32.95\n",
        "    88112       Einfuhrung in python3       bernd klein            3            24.99\n",
        "\n",
        "\n",
        "Write a Python program, which returns a list with 2-tuples. Each tuple consists of the order number and the\n",
        "product of the price per item and the quantity. The product should be increased by 10,- € if the value of the\n",
        "order is smaller than 100,00 €.\n",
        "\n",
        "Write a Python program using lambda and map.'''\n",
        "\n",
        "orders=[(34587, \"Learning Python, Mark Lutz\", 4, 40.95),(98762, \"Programming Python, Mark Lutz\", 5, 56.80),(77226, \"head first python, paul barry\", 3,32.95),(88112, \"Einfuhrung in python3,bernd klein\", 3,24.99)]\n",
        "result = list(map(lambda order: (order[0], order[2] * order[3] + 10 if order[2] * order[3] < 100 else order[2] * order[3]), orders))\n",
        "\n",
        "#  hence the order 3 and 4 will have a price addition of ruppess 10 euro per quantity\n",
        "print(result)"
      ],
      "metadata": {
        "colab": {
          "base_uri": "https://localhost:8080/"
        },
        "id": "-sWgBExhEn5D",
        "outputId": "96dfb039-63a9-4b5e-891f-485bfad0b0da"
      },
      "execution_count": 38,
      "outputs": [
        {
          "output_type": "stream",
          "name": "stdout",
          "text": [
            "[(34587, 163.8), (98762, 284.0), (77226, 108.85000000000001), (88112, 84.97)]\n"
          ]
        }
      ]
    }
  ]
}