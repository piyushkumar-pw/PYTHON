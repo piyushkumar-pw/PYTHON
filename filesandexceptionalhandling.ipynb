{
  "cells": [
    {
      "cell_type": "markdown",
      "metadata": {
        "id": "zGfDnHznS-Z1"
      },
      "source": [
        "**Theory**"
      ]
    },
    {
      "cell_type": "markdown",
      "metadata": {
        "id": "luoi29wuTcG4"
      },
      "source": [
        "1.  What is the difference between interpreted and compiled languages?\n",
        "-   Interpreted language:-\n",
        "-   An interpreted translate the program line by line during execution.\n",
        "-   No separate executeble is produced.\n",
        "-   Easier to test and debug.\n",
        "-   More flexible and portable\n",
        "-   slower execution speed.\n",
        "-   more overhead at runtime.\n",
        "-   Example language :- Python , JavaScript and Ruby.\n",
        "-   Complied Language:-\n",
        "-   A compiler translate the entire program from source code into machine code\n",
        "    before  it runs.\n",
        "-   The outputs is a separate executable file.\n",
        "-   Faster execution (once compiled )\n",
        "-   Better optimization.\n",
        "-   Slower development cycle (must recompile after changes)\n",
        "-   Less flexibility for interactive work.\n",
        "-   Example language:- C , C++ , Go , Rust."
      ]
    },
    {
      "cell_type": "markdown",
      "metadata": {
        "id": "VytjArsyV19V"
      },
      "source": [
        "2.   What is exception handling in Python\n",
        "-    A mechanism in programming used to handle error or exceptional events\n",
        "     gracefully without crashing the program."
      ]
    },
    {
      "cell_type": "code",
      "execution_count": 2,
      "metadata": {
        "colab": {
          "base_uri": "https://localhost:8080/"
        },
        "id": "NZ9TTKiOWTlW",
        "outputId": "e30c9279-bc39-4927-d23d-61eb088f9ae2"
      },
      "outputs": [
        {
          "name": "stdout",
          "output_type": "stream",
          "text": [
            "An exception occurred\n"
          ]
        }
      ],
      "source": [
        "#Example Q2.\n",
        "try:\n",
        "  print(x)\n",
        "except:\n",
        "  print(\"An exception occurred\")"
      ]
    },
    {
      "cell_type": "markdown",
      "metadata": {
        "id": "QiDQuhZ9Wm5h"
      },
      "source": [
        "3.   What is the purpose of the finally block in exception handling?\n",
        "-    The purpose of the finally block in exception handling is to ensure that\n",
        "     certain code is always executed."
      ]
    },
    {
      "cell_type": "code",
      "execution_count": 1,
      "metadata": {
        "colab": {
          "base_uri": "https://localhost:8080/"
        },
        "id": "mn39SYEIXDs0",
        "outputId": "d71a13bb-b991-4661-fa7c-e9572e579b11"
      },
      "outputs": [
        {
          "name": "stdout",
          "output_type": "stream",
          "text": [
            "Something went wrong\n",
            "The 'try except' is finished\n"
          ]
        }
      ],
      "source": [
        "#Q3\n",
        "try:\n",
        "  print(x)\n",
        "  print(y)\n",
        "except:\n",
        "  print(\"Something went wrong\")\n",
        "finally:\n",
        "  print(\"The 'try except' is finished\")"
      ]
    },
    {
      "cell_type": "markdown",
      "metadata": {
        "id": "1dAscN30Xkx-"
      },
      "source": [
        "4.   What is logging in Python?\n",
        "-    The process of recording messages that describe  \n",
        "     events or errors in a program’s execution. It helps to track the flow of a program, debug issues, and monitor application behavior, especially in production environments."
      ]
    },
    {
      "cell_type": "code",
      "execution_count": 4,
      "metadata": {
        "id": "FyGZ-6uLYLcl"
      },
      "outputs": [],
      "source": [
        "#Q4.\n",
        "import logging\n",
        "logging.basicConfig(filename=\"test.log\",level=logging.INFO)\n",
        "logging.info(\"Log this line of execution\")"
      ]
    },
    {
      "cell_type": "markdown",
      "metadata": {
        "id": "W-Qv4pYwYZXZ"
      },
      "source": [
        "5.   What is the significance of the __del__ method in Python?\n",
        "-    The __del__ method is a destructor/delete — a special method that is\n",
        "     called when an object is about to be destroyed/deleted."
      ]
    },
    {
      "cell_type": "code",
      "execution_count": null,
      "metadata": {
        "id": "CiiOlckfbHyL"
      },
      "outputs": [],
      "source": [
        "#Q5.\n",
        "class FileHandler:\n",
        "  def __init__(self, filename):\n",
        "    self.file = open(filename,'r')\n",
        "    print(\"file open.\")\n",
        "\n",
        "  def __del__(self):\n",
        "    print(\"file closed.\")\n",
        "    self.file.close()\n",
        "\n",
        "fh = FileHandler(\"test.txt\")\n",
        "del fh"
      ]
    },
    {
      "cell_type": "markdown",
      "metadata": {
        "id": "dQyaxc4IbIxg"
      },
      "source": [
        "6.   What is the difference between import and from ... import in Python?\n",
        "-    Import module:-\n",
        "-    It is the entire module.\n",
        "-    Access the functions, classes, or variable with the module name as a\n",
        "     prefix.\n",
        "-    From ... import\n",
        "-    Import specific functions, classes , or variable from the module directly\n",
        "     into it.\n",
        "-    Use them without the module prefix.\n"
      ]
    },
    {
      "cell_type": "code",
      "execution_count": 10,
      "metadata": {
        "colab": {
          "base_uri": "https://localhost:8080/"
        },
        "id": "5uc6VcJacLak",
        "outputId": "24e90b9e-20c7-45b6-cfe4-93b01d9a42f5"
      },
      "outputs": [
        {
          "name": "stdout",
          "output_type": "stream",
          "text": [
            "4.0\n",
            "5.0\n"
          ]
        }
      ],
      "source": [
        "#Q6.\n",
        "import math\n",
        "print(math.sqrt(16))\n",
        "\n",
        "\n",
        "from math import sqrt\n",
        "print(sqrt(25))"
      ]
    },
    {
      "cell_type": "markdown",
      "metadata": {
        "id": "h44AUxK_ci_-"
      },
      "source": [
        "7.   How can you handle multiple exceptions in Python?\n",
        "-    Handle Multiple Exceptions in a Single except Block\n",
        "-    Handle Each Exception Separately\n",
        "-    Use else and finally with try/except\n"
      ]
    },
    {
      "cell_type": "code",
      "execution_count": null,
      "metadata": {
        "id": "8dPj63vhd1VR"
      },
      "outputs": [],
      "source": [
        "#Q7.\n",
        "#Handle Multiple Exceptions in a Single except Block\n",
        "try:\n",
        "  print(x)\n",
        "  print(y)\n",
        "except (NameError, SyntaxError):\n",
        "  print(\"Something went wrong\")\n",
        "\n",
        "#Handle Each Exception Separately\n",
        "try:\n",
        "  print(x)\n",
        "except:\n",
        "  print(\"Something went wrong\")\n",
        "except:\n",
        "  print(\"Something else went wrong\")\n",
        "\n",
        "#Use else and finally with try/except\n",
        "try:\n",
        "  print(\"Hello\")\n",
        "except:\n",
        "  print(\"Something went wrong\")\n",
        "else:\n",
        "  print(\"Nothing went wrong\")\n",
        "finally:\n",
        "  print(\"The try...except block is finished\")\n",
        "\n"
      ]
    },
    {
      "cell_type": "markdown",
      "metadata": {
        "id": "Muqnn_0Gdulv"
      },
      "source": [
        "8.  What is the purpose of the with statement when handling files in Python ?\n",
        "-   The purpose of the with statement when handling files :-\n",
        "-   Automatically closes the file.\n",
        "-   Makes code cleaner, shorter and kess error-prone.\n",
        "-   Prevents resources leak"
      ]
    },
    {
      "cell_type": "code",
      "execution_count": 13,
      "metadata": {
        "id": "ipnf8CgcfKAD"
      },
      "outputs": [],
      "source": [
        "#Q8\n",
        "with open('test.txt', 'w') as f:\n",
        "  data = f.write(\"hello world\")"
      ]
    },
    {
      "cell_type": "markdown",
      "metadata": {
        "id": "7iNUJtkMfYQC"
      },
      "source": [
        "9.   What is the difference between multithreading and multiprocessing?\n",
        "-    Multithreading:-\n",
        "-    Uses multiple threads within a single process.\n",
        "-    Threads share the same memory space.\n",
        "-    Best for I/O-bound tasks.\n",
        "-    In Python, due to the Global Interpreter Lock (GIL), threads cannot run\n",
        "     Python bytecode in parallel—only one thread executes Python code at a time.\n",
        "\n",
        "-    Multiprocessing:-\n",
        "-    Uses multiple processes, each with its own separate memory space.\n",
        "-    Can run in true parallel on multiple CPU cores.\n",
        "-    Best for CPU-bound tasks (e.g., computations, data processing).\n",
        "-    Avoids the limitations of the GIL in Python."
      ]
    },
    {
      "cell_type": "markdown",
      "metadata": {
        "id": "jK5evL-AgSYo"
      },
      "source": [
        "10.   What are the advantages of using logging in a program?\n",
        "-     The advantages of using logging in a program:-\n",
        "-     Tracks Execution Flow and Errors\n",
        "-     Supports Multiple Severity Levels\n",
        "-     Flexible Output Options\n",
        "-     Easier Debugging and Maintenance\n",
        "-     No Need to Remove It for Production\n",
        "-     Thread- and Process-Safe\n",
        "-     Custom Formatting and Filtering"
      ]
    },
    {
      "cell_type": "code",
      "execution_count": null,
      "metadata": {
        "id": "vFVEP6gghgZz"
      },
      "outputs": [],
      "source": [
        "#Q10.\n",
        "import logging\n",
        "logging.basicConfig(filename=\"test.log\",level=logging.INFO, format='%(asctime)s %(message)s'\n",
        "logging.info(\"Log this line of execution\")\n",
        "logging.error(\"This is an error\")"
      ]
    },
    {
      "cell_type": "markdown",
      "metadata": {
        "id": "3ggmPtY1h2TO"
      },
      "source": [
        "11.   What is memory management in Python?\n",
        "-     Automatic Garbage Collection\n",
        "-     Private heap space\n",
        "-     Memory pools\n",
        "-     Dynamic typing"
      ]
    },
    {
      "cell_type": "markdown",
      "metadata": {
        "id": "gf_DBZCeiQ3Q"
      },
      "source": [
        "12.  What are the basic steps involved in exception handling in Python?\n",
        "-    Use a try Block\n",
        "-    And  use except block\n",
        "-    use an else block\n",
        "-    Use finally block\n"
      ]
    },
    {
      "cell_type": "code",
      "execution_count": null,
      "metadata": {
        "id": "8kVsFI8uivcQ"
      },
      "outputs": [],
      "source": [
        "#Q12.\n",
        "try:\n",
        "  print(x)\n",
        "except:\n",
        "  print(\"Something went wrong\")\n",
        "else:\n",
        "  print(\"Nothing went wrong\")\n",
        "finally:\n",
        "  print(\"The try...except block is finished\")"
      ]
    },
    {
      "cell_type": "markdown",
      "metadata": {
        "id": "_FMOdF_wiy1K"
      },
      "source": [
        "13.   Why is memory management important in Python?\n",
        "-     Prevents memory leask\n",
        "-     Optimize perforamnce\n",
        "-     Supprot scalability\n",
        "-     Reduce programmer overhead\n",
        "-     Avoids crashes and instability"
      ]
    },
    {
      "cell_type": "markdown",
      "metadata": {
        "id": "ckzvitY5jZbM"
      },
      "source": [
        "14.   What is the role of try and except in exception handling?\n",
        "-     try :-  \n",
        "-     Contains code that might raise an exception.\n",
        "-     Python monitors this block for error.\n",
        "-     If no exception occurs, it skips the except block.\n",
        "-     except :-  \n",
        "-     Catches and handle thee exception raised in the try block.\n",
        "-     Prevents teh program from terminating abruptly.\n",
        "-     Can handle specific exceptions or all exceptions."
      ]
    },
    {
      "cell_type": "code",
      "execution_count": null,
      "metadata": {
        "id": "mD4BWZWUkgch"
      },
      "outputs": [],
      "source": [
        "#Q14.\n",
        "try:\n",
        "  print(x)\n",
        "except:\n",
        "  print(\"Something went wrong\")"
      ]
    },
    {
      "cell_type": "markdown",
      "metadata": {
        "id": "dxn0VuI2kle-"
      },
      "source": [
        "15.   How does Python's garbage collection system work?\n",
        "-     Python’s garbage collection system is responsible for automatically\n",
        "      reclaiming memory by deleting objects that are no longer in use. This helps prevent memory leaks and keeps  program efficient.\n",
        "-     Reference counting\n",
        "-     Garbage collector   "
      ]
    },
    {
      "cell_type": "markdown",
      "metadata": {
        "id": "Zkf20cQzlRX1"
      },
      "source": [
        "16.   What is the purpose of the else block in exception handling?\n",
        "-     Keeps the normal logic separate from error-handling code.\n",
        "-     Makes your code cleaner and more readable.\n",
        "-     Ensures that some logic only runs when everything in try succeeds"
      ]
    },
    {
      "cell_type": "code",
      "execution_count": null,
      "metadata": {
        "id": "zbwHaoE4loTA"
      },
      "outputs": [],
      "source": [
        "#Q16.\n",
        "try:\n",
        "  print(\"Hello\")\n",
        "except:\n",
        "  print(\"Something went wrong\")\n",
        "else:\n",
        "  print(\"Nothing went wrong\")"
      ]
    },
    {
      "cell_type": "markdown",
      "metadata": {
        "id": "IrK9YmCylrlI"
      },
      "source": [
        "17.   What are the common logging levels in Python?\n",
        "-     The common logging level in python is\n",
        "-     DEBUG - Detiled intormation , typically for diagnosing problems.\n",
        "-     Info -  General events confirming things workd.\n",
        "-     WARNING - An indication something unexcepted.\n",
        "-     ERROR -  A serious issue.\n",
        "-     CRITICAL - A very serious problem."
      ]
    },
    {
      "cell_type": "code",
      "execution_count": null,
      "metadata": {
        "id": "vz3XZUjAm_WH"
      },
      "outputs": [],
      "source": [
        "#Q17.\n",
        "import logging\n",
        "logging.basicConfig(filename=\"test.log\",level=logging.DEBUG)\n",
        "logging,debug(\"This is a debug messsage\")\n",
        "logging.info(\"Log this line of execution\")\n",
        "logging.warning(\"This is a warning\")\n",
        "logging.error(\"This is an error\")\n",
        "logging.critical(\"This is critical\")\n"
      ]
    },
    {
      "cell_type": "markdown",
      "metadata": {
        "id": "SQx8c3oJnr2G"
      },
      "source": [
        "18.   What is the difference between os.fork() and multiprocessing in Python?\n",
        "-     os.fork:-\n",
        "-     Creates a new child process by duplicating the current process.\n",
        "-     Low-level system call, available only on Unix-like systems.\n",
        "-     The child gets an identical copy of the parent’s memory space.\n",
        "-     Requires careful handling to avoid issues like zombie processes and  \n",
        "      shared state errors.\n",
        "\n",
        "-     Multiprocessing:-\n",
        "-     High-level module for creating and managing separate processes.\n",
        "-     Works on both Unix and Windows.\n",
        "-     Processes do not share memory.\n",
        "-     Supports process pools, inter-process communication (IPC), and\n",
        "      synchronization tools."
      ]
    },
    {
      "cell_type": "code",
      "execution_count": null,
      "metadata": {
        "id": "ZuqOD3wOo9qi"
      },
      "outputs": [],
      "source": [
        "#Q18.\n",
        "import os\n",
        "pid = os.fork()\n",
        "if pid ==0:\n",
        "  print(\"Child process\")\n",
        "else:\n",
        "  print(\"Parent process)\n",
        "\n",
        "\n",
        "from multiprocessing import Process\n",
        "\n",
        "def task():\n",
        "    print(\"Child process\")\n",
        "\n",
        "p = Process(target=task)\n",
        "p.start()\n",
        "p.join()\n"
      ]
    },
    {
      "cell_type": "markdown",
      "metadata": {
        "id": "eyuaVND3tMcc"
      },
      "source": [
        "19.  What is the importance of closing a file in Python\n",
        "-    Closing a file in python is important because it ensures that all data is\n",
        "     properly written to disk , system resources are feed, and potential errors or data loss are avoided.\n"
      ]
    },
    {
      "cell_type": "markdown",
      "metadata": {
        "id": "xmqO_fdUtvhK"
      },
      "source": [
        "20.   What is the difference between file.read() and file.readline() in Python?\n",
        "-     file.read():-\n",
        "-     Reads the entire content of the file as a single string.\n",
        "-     If the file is large, it can be inefficient because it loads everything\n",
        "      into memory at once.\n",
        "-     If no argument is provided, it reads the entire file. You can also pass  \n",
        "      an optional size argument to read a specific number of bytes.\n",
        "\n",
        "-     file.readline()\n",
        "-     Reads one line from the file at a time.\n",
        "-     Returns the line as a string, including the newline character (\\n).\n",
        "-     Often used in loops to process files line by line, which is         \n",
        "      memory-efficient for large files.\n",
        "\n"
      ]
    },
    {
      "cell_type": "code",
      "execution_count": null,
      "metadata": {
        "id": "ryTNlZqYufgo"
      },
      "outputs": [],
      "source": [
        "#Q20.\n",
        "with open('file.txt', 'r') as file:\n",
        "    content = file.read()\n",
        "    print(content)#if file contains hello world , output will be Hello world\n",
        "\n",
        "with open('file.txt', 'r') as file:\n",
        "    line = file.readline()\n",
        "    while line:\n",
        "        print(line, end='')  # end='' prevents adding extra newline\n",
        "        line = file.readline()#if file contains hello world , output will be Hello world\n",
        "\n"
      ]
    },
    {
      "cell_type": "markdown",
      "metadata": {
        "id": "beuxBGsyvBTF"
      },
      "source": [
        "21.   What is the logging module in Python used for?\n",
        "-     The logging module in python is used to record messaes from application\n",
        "      such as errors, warning and informational messages for debugging, monitoring, and audition purposes.  "
      ]
    },
    {
      "cell_type": "markdown",
      "metadata": {
        "id": "uBs_FoEvv9Jo"
      },
      "source": [
        "22.   What is the os module in Python used for in file handling?\n",
        "-     The os module in Python is used for interacting with the operating  \n",
        "      system, and in file handling, it provides functions to create, delete, navigate, and manipulate files and directories programmatically.\n",
        "\n"
      ]
    },
    {
      "cell_type": "markdown",
      "metadata": {
        "id": "vvZgAZZQw6zc"
      },
      "source": [
        "23.   What are the challenges associated with memory management in Python?\n",
        "-     Circular References\n",
        "-     Memory leaks\n",
        "-     Large object retention\n",
        "-     Global variables and chaching\n",
        "-     Poor data strucutes choices\n",
        "-     Thread memory sharing issues."
      ]
    },
    {
      "cell_type": "markdown",
      "metadata": {
        "id": "RdsHfeT_xa7L"
      },
      "source": [
        "24.   How do you raise an exception manually in Python?\n",
        "-     We can raise an exception manually using the raise statement followed by\n",
        "      an exception class.\n",
        "\n",
        "-     syntax :-  \n",
        "-     raise ExceptionType()"
      ]
    },
    {
      "cell_type": "markdown",
      "metadata": {
        "id": "z8xClXMCzh1B"
      },
      "source": [
        "25.   Why is it important to use multithreading in certain applications?\n",
        "-     Using multithreading is important in certain applications because it\n",
        "      allows for concurrent execution of tasks, which can lead to improved performance, responsiveness, and efficient resource utilization, especially when dealing with I/O-bound operations.\n"
      ]
    },
    {
      "cell_type": "markdown",
      "metadata": {
        "id": "cBPAbZ-xzu_N"
      },
      "source": [
        "**Practical**"
      ]
    },
    {
      "cell_type": "code",
      "execution_count": 16,
      "metadata": {
        "id": "bX4o265Mz9qQ"
      },
      "outputs": [],
      "source": [
        "#1.How can you open a file for writing in Python and write a string to it?\n",
        "with open(\"example.txt\",'w') as file:\n",
        "  file.write(\"Hello World\")\n"
      ]
    },
    {
      "cell_type": "code",
      "execution_count": 17,
      "metadata": {
        "colab": {
          "base_uri": "https://localhost:8080/"
        },
        "id": "Wh1Gh2zi0tpx",
        "outputId": "c4d85cda-fd47-4be7-9489-d03395b01bbe"
      },
      "outputs": [
        {
          "name": "stdout",
          "output_type": "stream",
          "text": [
            "Hello World"
          ]
        }
      ],
      "source": [
        "#2. Write a Python program to read the contents of a file and print each line?\n",
        "with open(\"example.txt\",'r') as file:\n",
        "  for line in file:\n",
        "    print(line,end= '')"
      ]
    },
    {
      "cell_type": "code",
      "execution_count": 18,
      "metadata": {
        "colab": {
          "base_uri": "https://localhost:8080/"
        },
        "id": "Ni8HhBxc00rG",
        "outputId": "717df92d-9249-4004-dc8c-488b98dad6af"
      },
      "outputs": [
        {
          "name": "stdout",
          "output_type": "stream",
          "text": [
            "File not found error\n"
          ]
        }
      ],
      "source": [
        "#3. How would you handle a case where the file doesn't exist while trying to open it for reading?\n",
        "try:\n",
        "  with open (\"not existing file.txt\",'r') as file:\n",
        "    content = file.read()\n",
        "except FileNotFoundError:\n",
        "  print(\"File not found error\")"
      ]
    },
    {
      "cell_type": "code",
      "execution_count": null,
      "metadata": {
        "id": "tEv_0gDm1Y3g"
      },
      "outputs": [],
      "source": [
        "#4. Write a Python script that reads from one file and writes its content to another file?\n",
        "with open(\"example.txt\",'r') as file1:\n",
        "  content = file1.read()\n",
        "with open(\"example2.txt\",'w') as file2:\n",
        "  file2.write(content)\n",
        "print(\"Content copied from example.txt to example2.txt\")"
      ]
    },
    {
      "cell_type": "code",
      "execution_count": 19,
      "metadata": {
        "colab": {
          "base_uri": "https://localhost:8080/"
        },
        "id": "bbycoyML1nl-",
        "outputId": "c7ddd656-78b4-428e-a329-e2cebbe86c66"
      },
      "outputs": [
        {
          "name": "stdout",
          "output_type": "stream",
          "text": [
            "Division by zero error\n"
          ]
        }
      ],
      "source": [
        "#5.  How would you catch and handle division by zero error in Python?\n",
        "try:\n",
        "  10/0\n",
        "  print(\"Division successful\")\n",
        "except ZeroDivisionError:\n",
        "  print(\"Division by zero error\")\n"
      ]
    },
    {
      "cell_type": "code",
      "execution_count": null,
      "metadata": {
        "id": "0uU7DPmO19We"
      },
      "outputs": [],
      "source": [
        "#6. Write a Python program that logs an error message to a log file when a division by zero exception occurs?\n",
        "import logging\n",
        "logging.basicConfig(filename=\"error.log\",level=logging.ERROR)\n",
        "try:\n",
        "  10/0\n",
        "except ZeroDivisionError:\n",
        "  logging.error(\"Division by zero error\")\n",
        "  print(\"Division by zero error\")"
      ]
    },
    {
      "cell_type": "code",
      "execution_count": null,
      "metadata": {
        "id": "V08_ALE_2LoP"
      },
      "outputs": [],
      "source": [
        "#7. How do you log information at different levels (INFO, ERROR, WARNING) in Python using the logging module?\n",
        "import logging\n",
        "logging.basicConfig(filename=\"test.log\",level=logging.INFO)\n",
        "logging.info(\"Log this line of execution\")\n",
        "logging.warning(\"This is a warning\")\n",
        "logging.error(\"This is an error\")"
      ]
    },
    {
      "cell_type": "code",
      "execution_count": null,
      "metadata": {
        "id": "hZZH_9YT2dq8"
      },
      "outputs": [],
      "source": [
        "#8. Write a program to handle a file opening error using exception handling?\n",
        "try:\n",
        "  with open(\"not existing file.txt\",'r') as file:\n",
        "    content = file.read()\n",
        "    print(content)\n",
        "except FileNotFoundError:\n",
        "  print(\"File not found error\")"
      ]
    },
    {
      "cell_type": "code",
      "execution_count": null,
      "metadata": {
        "id": "ENAJNA9u2v5l"
      },
      "outputs": [],
      "source": [
        "#9. How can you read a file line by line and store its content in a list in Python?\n",
        "with open(\"example.txt\",'r') as file:\n",
        "  lines = file.readlines()\n",
        "  print(lines)"
      ]
    },
    {
      "cell_type": "code",
      "execution_count": null,
      "metadata": {
        "id": "2pH1gH2g3DdO"
      },
      "outputs": [],
      "source": [
        "#10.  How can you append data to an existing file in Python?\n",
        "with open(\"example.txt\",'a') as file:\n",
        "  file.write(\"\\nThis is an additional line added to the file\")\n",
        "print(\"Data appended to the file\")"
      ]
    },
    {
      "cell_type": "code",
      "execution_count": null,
      "metadata": {
        "id": "DDpobcLf3Dha"
      },
      "outputs": [],
      "source": [
        "#11.  Write a Python program that uses a try-except block to handle an error when attempting to access a dictionary key that doesn't exist?\n",
        "dict = {'a': 1, 'b': 2, 'c': 3}\n",
        "try:\n",
        "    value = dict['d']\n",
        "except KeyError:\n",
        "    print(\"Error: Key not found in dictionary\")"
      ]
    },
    {
      "cell_type": "code",
      "execution_count": null,
      "metadata": {
        "id": "ndpnlPC535G0"
      },
      "outputs": [],
      "source": [
        "#12.  Write a program that demonstrates using multiple except blocks to handle different types of exceptions?\n",
        "try:\n",
        "  result= 10/0\n",
        "  print(result)\n",
        "except ZeroDivisionError:\n",
        "  print(\"Division by zero error\")\n",
        "\n",
        "try:\n",
        "  print(x)\n",
        "except NameError:\n",
        "  print(\"Name error\")\n",
        "\n",
        "try:\n",
        "  x=5\n",
        "  result=x + \"add\"\n",
        "  print(result)\n",
        "except TypeError:\n",
        "  print(\"Type error\")"
      ]
    },
    {
      "cell_type": "code",
      "execution_count": null,
      "metadata": {
        "id": "GUL_oZlc4kgH"
      },
      "outputs": [],
      "source": [
        "#13.  How would you check if a file exists before attempting to read it in Python?\n",
        "import os\n",
        "file_path =\"example.txt\"\n",
        "\n",
        "if os.path.exists (file_path):\n",
        "  with open(file_path,\"r\") as file:\n",
        "    content =file.read()\n",
        "  print(content)\n",
        "\n",
        "else:\n",
        "  print(f\"The file {file_path} does not exist.\")"
      ]
    },
    {
      "cell_type": "code",
      "execution_count": null,
      "metadata": {
        "id": "exzY5rLJ5KaZ"
      },
      "outputs": [],
      "source": [
        "#14.  Write a program that uses the logging module to log both informational and error messages?\n",
        "import logging\n",
        "logging.basicConfig(filename=\"test.log\",level=logging.INFO, format='%(asctime)s %(message)s'\n",
        "logging.info(\"Log this line of execution\")\n",
        "logging.warning(\"This is a warning\")\n",
        "logging.error(\"This is an error\")\n",
        "try:\n",
        "  10/0\n",
        "except ZeroDivisionError:\n",
        "  logging.error(\"Division by zero error\")\n",
        "  print(\"Division by zero error\")\n",
        "\n",
        "print(\"Logs have been written to 'app_log.txt'.\")"
      ]
    },
    {
      "cell_type": "code",
      "execution_count": null,
      "metadata": {
        "id": "0nlX0Rm05KSn"
      },
      "outputs": [],
      "source": [
        "#15.  Write a Python program that prints the content of a file and handles the case when the file is empty?\n",
        "file_path = \"example.txt\"\n",
        "try:\n",
        "    with open(file_path, \"r\") as file:\n",
        "        content = file.read()\n",
        "        if content:\n",
        "            print(content)\n",
        "        else:\n",
        "            print(\"The file is empty.\")\n",
        "\n",
        "\n",
        "except FileNotFoundError:\n",
        "    print(f\"The file '{file_path}' was not found.\")\n",
        "except Exception as e:\n",
        "    print(f\"An error occurred: {e}\")"
      ]
    },
    {
      "cell_type": "code",
      "execution_count": null,
      "metadata": {
        "id": "ujCPl-Kd5KMY"
      },
      "outputs": [],
      "source": [
        "#16.  Demonstrate how to use memory profiling to check the memory usage of a small program?\n",
        "!pip install memory_profiler\n",
        "\n",
        "from memory_profiler import profile\n",
        "@profile\n",
        "def my_function():\n",
        "  a= [i for i in ranfe (100000)]\n",
        "  b= sum(a)\n",
        "  return b\n",
        "\n",
        "if __name__ == \"__main__\":\n",
        "  result = my_function()\n",
        "  print(result)"
      ]
    },
    {
      "cell_type": "code",
      "execution_count": null,
      "metadata": {
        "id": "Ht0IcBSb5KJs"
      },
      "outputs": [],
      "source": [
        "#17.  Write a Python program to create and write a list of numbers to a file, one number per line?\n",
        "number = [1,2,3,4,5]\n",
        "with open(\"numbers.txt\",'w') as file:\n",
        "  for num in number:\n",
        "    file.write(f\"{number}\\n\")\n",
        "print(\"List of numbers written to file\")"
      ]
    },
    {
      "cell_type": "code",
      "execution_count": null,
      "metadata": {
        "id": "HA1AjOir5KEd"
      },
      "outputs": [],
      "source": [
        "#18.  How would you implement a basic logging setup that logs to a file with rotation after 1MB?\n",
        "import logging\n",
        "from logging.handlers import RotatingFileHandler\n",
        "\n",
        "logger = logging.getLogger(\"Mylogger\")\n",
        "logger.setlevel(logging.DEBUG)\n",
        "\n",
        "log_handlet = RotatingFileHandler(\"my_log.log\",maxBytes=1024*1024,backupCount=3)\n",
        "log_handlet.setlevel(logging.DEBUG)\n",
        "\n",
        "formatter = logging.Formatter(\"%(asctime)s - %(levelname)s - %(message)s\")\n",
        "log_handlet.setFormatter(formatter)\n",
        "\n",
        "logger.addHandler(log_handlet)\n",
        "\n",
        "logger.debug(\"This is a debug message\")\n",
        "logger.info(\"This is an info message\")\n",
        "logger.warning(\"This is a warning message\")\n",
        "logger.error(\"This is an error message\")\n",
        "logger.critical(\"This is a critical message\")\n",
        "print(\"Logs are ebing written to 'app_log.log\")"
      ]
    },
    {
      "cell_type": "markdown",
      "metadata": {
        "id": "q6YVaQh78vPz"
      },
      "source": []
    },
    {
      "cell_type": "code",
      "execution_count": null,
      "metadata": {
        "id": "zoRE8Z7P8LnC"
      },
      "outputs": [],
      "source": [
        "#19.  Write a program that handles both IndexError and KeyError using a try-except block?\n",
        "def handler_errors():\n",
        "  mylist = [1,2,4,5]\n",
        "  my_dict = {\"a\": 1, \"b\": 2}\n",
        "\n",
        "  try:\n",
        "    print(\"Accessing list element:\", mylist[3])\n",
        "    print(\"Accessing dictionary element:\", mydict[\"z\"])\n",
        "  except Indexerror:\n",
        "    print(\"IndexError: List index out of range\")\n",
        "  except KeyError:\n",
        "    print(\"KeyError: Key not found in dictionary\")\n",
        "\n",
        "handler_errors()"
      ]
    },
    {
      "cell_type": "code",
      "execution_count": null,
      "metadata": {
        "id": "-dc9PAMO8Lhg"
      },
      "outputs": [],
      "source": [
        "#20.  How would you open a file and read its contents using a context manager in Python?\n",
        "# Open and read a file using a context manager\n",
        "file_path = \"example.txt\"\n",
        "\n",
        "try:\n",
        "    with open(file_path, \"r\") as file:\n",
        "        contents = file.read()\n",
        "        print(\"File contents:\")\n",
        "        print(contents)\n",
        "except FileNotFoundError:\n",
        "    print(f\"Error: The file '{file_path}' was not found.\")\n",
        "except Exception as e:\n",
        "    print(f\"An error occurred: {e}\")\n"
      ]
    },
    {
      "cell_type": "code",
      "execution_count": null,
      "metadata": {
        "id": "2-1OvlAA8Lfi"
      },
      "outputs": [],
      "source": [
        "#21. Write a Python program that reads a file and prints the number of occurrences of a specific word?\n",
        "def count_word_occurrences(file_path, target_word):\n",
        "    try:\n",
        "        with open(file_path, 'r') as file:\n",
        "            content = file.read()\n",
        "\n",
        "            content = content.lower()\n",
        "            target_word = target_word.lower()\n",
        "\n",
        "\n",
        "            words = content.split()\n",
        "            count = words.count(target_word)\n",
        "\n",
        "            print(f\"The word '{target_word}' occurs {count} time(s) in the file.\")\n",
        "    except FileNotFoundError:\n",
        "        print(f\"Error: The file '{file_path}' does not exist.\")\n",
        "    except Exception as e:\n",
        "        print(f\"An error occurred: {e}\")\n",
        "\n",
        "file_name = \"sample.txt\"\n",
        "word_to_count = \"python\"\n",
        "\n",
        "count_word_occurrences(file_name, word_to_count)\n"
      ]
    },
    {
      "cell_type": "code",
      "execution_count": null,
      "metadata": {
        "id": "gf3PDaC38LdB"
      },
      "outputs": [],
      "source": [
        "#22.  How can you check if a file is empty before attempting to read its contents?\n",
        "import os\n",
        "\n",
        "file_path = \"example.txt\"\n",
        "\n",
        "if os.path.exists(file_path) and os.stat(file_path).st_size == 0:\n",
        "    print(\"The file is empty.\")\n",
        "else:\n",
        "    with open(file_path, \"r\") as file:\n",
        "        content = file.read()\n",
        "        print(\"File content:\")\n",
        "        print(content)\n",
        "file_path = \"example.txt\"\n",
        "\n",
        "try:\n",
        "    with open(file_path, \"r\") as file:\n",
        "        content = file.read()\n",
        "        if not content:\n",
        "            print(\"The file is empty.\")\n",
        "        else:\n",
        "            print(\"File content:\")\n",
        "            print(content)\n",
        "except FileNotFoundError:\n",
        "    print(\"The file does not exist.\")\n",
        "\n",
        "\n",
        "\n",
        "\n",
        "\n"
      ]
    },
    {
      "cell_type": "code",
      "execution_count": null,
      "metadata": {
        "id": "ULmxi-Ii8Laa"
      },
      "outputs": [],
      "source": [
        "#23.  Write a Python program that writes to a log file when an error occurs during file handling?\n",
        "\n",
        "\n",
        "import logging\n",
        "\n",
        "logging.basicConfig(\n",
        "    filename='file_errors.log',\n",
        "    level=logging.ERROR,\n",
        "    format='%(asctime)s - %(levelname)s - %(message)s'\n",
        ")\n",
        "\n",
        "def read_file(file_path):\n",
        "    try:\n",
        "        with open(file_path, 'r') as file:\n",
        "            print(\"File content:\")\n",
        "            print(file.read())\n",
        "    except FileNotFoundError as e:\n",
        "        logging.error(f\"FileNotFoundError: {e}\")\n",
        "        print(f\"Error: The file '{file_path}' was not found.\")\n",
        "    except IOError as e:\n",
        "        logging.error(f\"IOError: {e}\")\n",
        "        print(f\"Error: An I/O error occurred while reading '{file_path}'.\")\n",
        "    except Exception as e:\n",
        "        logging.error(f\"Unexpected error: {e}\")\n",
        "        print(f\"An unexpected error occurred: {e}\")\n",
        "\n",
        "read_file(\"nonexistent_file.txt\"\n"
      ]
    }
  ],
  "metadata": {
    "colab": {
      "provenance": []
    },
    "kernelspec": {
      "display_name": "Python 3",
      "name": "python3"
    },
    "language_info": {
      "name": "python"
    }
  },
  "nbformat": 4,
  "nbformat_minor": 0
}
